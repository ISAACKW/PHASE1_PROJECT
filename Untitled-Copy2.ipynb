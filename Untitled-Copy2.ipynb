{
 "cells": [
  {
   "cell_type": "code",
   "execution_count": 1,
   "id": "1c06a36a-a655-4456-8984-dbc3db35b2dc",
   "metadata": {},
   "outputs": [],
   "source": [
    "import pandas as pd\n",
    "import numpy as np\n",
    "import seaborn as sns\n",
    "import matplotlib.pyplot as plt"
   ]
  },
  {
   "cell_type": "code",
   "execution_count": 3,
   "id": "defd553f-70db-4868-98b8-89b1dfab2822",
   "metadata": {},
   "outputs": [],
   "source": [
    "data = pd.read_table('rt.movie_info.tsv.gz')"
   ]
  },
  {
   "cell_type": "markdown",
   "id": "71a74d76-bae3-4ace-81a8-548db617de13",
   "metadata": {},
   "source": [
    "**DISPLAY THE FIRST FIVE ROWS OF THE DATA**"
   ]
  },
  {
   "cell_type": "code",
   "execution_count": 4,
   "id": "df72eb0d-34aa-4582-85c8-37d906f7e95e",
   "metadata": {},
   "outputs": [
    {
     "data": {
      "text/html": [
       "<div>\n",
       "<style scoped>\n",
       "    .dataframe tbody tr th:only-of-type {\n",
       "        vertical-align: middle;\n",
       "    }\n",
       "\n",
       "    .dataframe tbody tr th {\n",
       "        vertical-align: top;\n",
       "    }\n",
       "\n",
       "    .dataframe thead th {\n",
       "        text-align: right;\n",
       "    }\n",
       "</style>\n",
       "<table border=\"1\" class=\"dataframe\">\n",
       "  <thead>\n",
       "    <tr style=\"text-align: right;\">\n",
       "      <th></th>\n",
       "      <th>id</th>\n",
       "      <th>synopsis</th>\n",
       "      <th>rating</th>\n",
       "      <th>genre</th>\n",
       "      <th>director</th>\n",
       "      <th>writer</th>\n",
       "      <th>theater_date</th>\n",
       "      <th>dvd_date</th>\n",
       "      <th>currency</th>\n",
       "      <th>box_office</th>\n",
       "      <th>runtime</th>\n",
       "      <th>studio</th>\n",
       "    </tr>\n",
       "  </thead>\n",
       "  <tbody>\n",
       "    <tr>\n",
       "      <th>0</th>\n",
       "      <td>1</td>\n",
       "      <td>This gritty, fast-paced, and innovative police...</td>\n",
       "      <td>R</td>\n",
       "      <td>Action and Adventure|Classics|Drama</td>\n",
       "      <td>William Friedkin</td>\n",
       "      <td>Ernest Tidyman</td>\n",
       "      <td>Oct 9, 1971</td>\n",
       "      <td>Sep 25, 2001</td>\n",
       "      <td>NaN</td>\n",
       "      <td>NaN</td>\n",
       "      <td>104 minutes</td>\n",
       "      <td>NaN</td>\n",
       "    </tr>\n",
       "    <tr>\n",
       "      <th>1</th>\n",
       "      <td>3</td>\n",
       "      <td>New York City, not-too-distant-future: Eric Pa...</td>\n",
       "      <td>R</td>\n",
       "      <td>Drama|Science Fiction and Fantasy</td>\n",
       "      <td>David Cronenberg</td>\n",
       "      <td>David Cronenberg|Don DeLillo</td>\n",
       "      <td>Aug 17, 2012</td>\n",
       "      <td>Jan 1, 2013</td>\n",
       "      <td>$</td>\n",
       "      <td>600,000</td>\n",
       "      <td>108 minutes</td>\n",
       "      <td>Entertainment One</td>\n",
       "    </tr>\n",
       "    <tr>\n",
       "      <th>2</th>\n",
       "      <td>5</td>\n",
       "      <td>Illeana Douglas delivers a superb performance ...</td>\n",
       "      <td>R</td>\n",
       "      <td>Drama|Musical and Performing Arts</td>\n",
       "      <td>Allison Anders</td>\n",
       "      <td>Allison Anders</td>\n",
       "      <td>Sep 13, 1996</td>\n",
       "      <td>Apr 18, 2000</td>\n",
       "      <td>NaN</td>\n",
       "      <td>NaN</td>\n",
       "      <td>116 minutes</td>\n",
       "      <td>NaN</td>\n",
       "    </tr>\n",
       "    <tr>\n",
       "      <th>3</th>\n",
       "      <td>6</td>\n",
       "      <td>Michael Douglas runs afoul of a treacherous su...</td>\n",
       "      <td>R</td>\n",
       "      <td>Drama|Mystery and Suspense</td>\n",
       "      <td>Barry Levinson</td>\n",
       "      <td>Paul Attanasio|Michael Crichton</td>\n",
       "      <td>Dec 9, 1994</td>\n",
       "      <td>Aug 27, 1997</td>\n",
       "      <td>NaN</td>\n",
       "      <td>NaN</td>\n",
       "      <td>128 minutes</td>\n",
       "      <td>NaN</td>\n",
       "    </tr>\n",
       "    <tr>\n",
       "      <th>4</th>\n",
       "      <td>7</td>\n",
       "      <td>NaN</td>\n",
       "      <td>NR</td>\n",
       "      <td>Drama|Romance</td>\n",
       "      <td>Rodney Bennett</td>\n",
       "      <td>Giles Cooper</td>\n",
       "      <td>NaN</td>\n",
       "      <td>NaN</td>\n",
       "      <td>NaN</td>\n",
       "      <td>NaN</td>\n",
       "      <td>200 minutes</td>\n",
       "      <td>NaN</td>\n",
       "    </tr>\n",
       "  </tbody>\n",
       "</table>\n",
       "</div>"
      ],
      "text/plain": [
       "   id                                           synopsis rating  \\\n",
       "0   1  This gritty, fast-paced, and innovative police...      R   \n",
       "1   3  New York City, not-too-distant-future: Eric Pa...      R   \n",
       "2   5  Illeana Douglas delivers a superb performance ...      R   \n",
       "3   6  Michael Douglas runs afoul of a treacherous su...      R   \n",
       "4   7                                                NaN     NR   \n",
       "\n",
       "                                 genre          director  \\\n",
       "0  Action and Adventure|Classics|Drama  William Friedkin   \n",
       "1    Drama|Science Fiction and Fantasy  David Cronenberg   \n",
       "2    Drama|Musical and Performing Arts    Allison Anders   \n",
       "3           Drama|Mystery and Suspense    Barry Levinson   \n",
       "4                        Drama|Romance    Rodney Bennett   \n",
       "\n",
       "                            writer  theater_date      dvd_date currency  \\\n",
       "0                   Ernest Tidyman   Oct 9, 1971  Sep 25, 2001      NaN   \n",
       "1     David Cronenberg|Don DeLillo  Aug 17, 2012   Jan 1, 2013        $   \n",
       "2                   Allison Anders  Sep 13, 1996  Apr 18, 2000      NaN   \n",
       "3  Paul Attanasio|Michael Crichton   Dec 9, 1994  Aug 27, 1997      NaN   \n",
       "4                     Giles Cooper           NaN           NaN      NaN   \n",
       "\n",
       "  box_office      runtime             studio  \n",
       "0        NaN  104 minutes                NaN  \n",
       "1    600,000  108 minutes  Entertainment One  \n",
       "2        NaN  116 minutes                NaN  \n",
       "3        NaN  128 minutes                NaN  \n",
       "4        NaN  200 minutes                NaN  "
      ]
     },
     "execution_count": 4,
     "metadata": {},
     "output_type": "execute_result"
    }
   ],
   "source": [
    "data.head()"
   ]
  },
  {
   "cell_type": "code",
   "execution_count": 91,
   "id": "03137257-6a5e-4d43-ba6d-0d7e91f0fc3b",
   "metadata": {},
   "outputs": [
    {
     "data": {
      "text/html": [
       "<div>\n",
       "<style scoped>\n",
       "    .dataframe tbody tr th:only-of-type {\n",
       "        vertical-align: middle;\n",
       "    }\n",
       "\n",
       "    .dataframe tbody tr th {\n",
       "        vertical-align: top;\n",
       "    }\n",
       "\n",
       "    .dataframe thead th {\n",
       "        text-align: right;\n",
       "    }\n",
       "</style>\n",
       "<table border=\"1\" class=\"dataframe\">\n",
       "  <thead>\n",
       "    <tr style=\"text-align: right;\">\n",
       "      <th></th>\n",
       "      <th>id</th>\n",
       "      <th>synopsis</th>\n",
       "      <th>rating</th>\n",
       "      <th>genre</th>\n",
       "      <th>director</th>\n",
       "      <th>writer</th>\n",
       "      <th>theater_date</th>\n",
       "      <th>dvd_date</th>\n",
       "      <th>currency</th>\n",
       "      <th>box_office</th>\n",
       "      <th>runtime</th>\n",
       "      <th>studio</th>\n",
       "    </tr>\n",
       "  </thead>\n",
       "  <tbody>\n",
       "    <tr>\n",
       "      <th>1555</th>\n",
       "      <td>1996</td>\n",
       "      <td>Forget terrorists or hijackers -- there's a ha...</td>\n",
       "      <td>R</td>\n",
       "      <td>Action and Adventure|Horror|Mystery and Suspense</td>\n",
       "      <td>NaN</td>\n",
       "      <td>NaN</td>\n",
       "      <td>Aug 18, 2006</td>\n",
       "      <td>Jan 2, 2007</td>\n",
       "      <td>$</td>\n",
       "      <td>33,886,034</td>\n",
       "      <td>106 minutes</td>\n",
       "      <td>New Line Cinema</td>\n",
       "    </tr>\n",
       "    <tr>\n",
       "      <th>1556</th>\n",
       "      <td>1997</td>\n",
       "      <td>The popular Saturday Night Live sketch was exp...</td>\n",
       "      <td>PG</td>\n",
       "      <td>Comedy|Science Fiction and Fantasy</td>\n",
       "      <td>Steve Barron</td>\n",
       "      <td>Terry Turner|Tom Davis|Dan Aykroyd|Bonnie Turner</td>\n",
       "      <td>Jul 23, 1993</td>\n",
       "      <td>Apr 17, 2001</td>\n",
       "      <td>NaN</td>\n",
       "      <td>NaN</td>\n",
       "      <td>88 minutes</td>\n",
       "      <td>Paramount Vantage</td>\n",
       "    </tr>\n",
       "    <tr>\n",
       "      <th>1557</th>\n",
       "      <td>1998</td>\n",
       "      <td>Based on a novel by Richard Powell, when the l...</td>\n",
       "      <td>G</td>\n",
       "      <td>Classics|Comedy|Drama|Musical and Performing Arts</td>\n",
       "      <td>Gordon Douglas</td>\n",
       "      <td>NaN</td>\n",
       "      <td>Jan 1, 1962</td>\n",
       "      <td>May 11, 2004</td>\n",
       "      <td>NaN</td>\n",
       "      <td>NaN</td>\n",
       "      <td>111 minutes</td>\n",
       "      <td>NaN</td>\n",
       "    </tr>\n",
       "    <tr>\n",
       "      <th>1558</th>\n",
       "      <td>1999</td>\n",
       "      <td>The Sandlot is a coming-of-age story about a g...</td>\n",
       "      <td>PG</td>\n",
       "      <td>Comedy|Drama|Kids and Family|Sports and Fitness</td>\n",
       "      <td>David Mickey Evans</td>\n",
       "      <td>David Mickey Evans|Robert Gunter</td>\n",
       "      <td>Apr 1, 1993</td>\n",
       "      <td>Jan 29, 2002</td>\n",
       "      <td>NaN</td>\n",
       "      <td>NaN</td>\n",
       "      <td>101 minutes</td>\n",
       "      <td>NaN</td>\n",
       "    </tr>\n",
       "    <tr>\n",
       "      <th>1559</th>\n",
       "      <td>2000</td>\n",
       "      <td>Suspended from the force, Paris cop Hubert is ...</td>\n",
       "      <td>R</td>\n",
       "      <td>Action and Adventure|Art House and Internation...</td>\n",
       "      <td>NaN</td>\n",
       "      <td>Luc Besson</td>\n",
       "      <td>Sep 27, 2001</td>\n",
       "      <td>Feb 11, 2003</td>\n",
       "      <td>NaN</td>\n",
       "      <td>NaN</td>\n",
       "      <td>94 minutes</td>\n",
       "      <td>Columbia Pictures</td>\n",
       "    </tr>\n",
       "  </tbody>\n",
       "</table>\n",
       "</div>"
      ],
      "text/plain": [
       "        id                                           synopsis rating  \\\n",
       "1555  1996  Forget terrorists or hijackers -- there's a ha...      R   \n",
       "1556  1997  The popular Saturday Night Live sketch was exp...     PG   \n",
       "1557  1998  Based on a novel by Richard Powell, when the l...      G   \n",
       "1558  1999  The Sandlot is a coming-of-age story about a g...     PG   \n",
       "1559  2000  Suspended from the force, Paris cop Hubert is ...      R   \n",
       "\n",
       "                                                  genre            director  \\\n",
       "1555   Action and Adventure|Horror|Mystery and Suspense                 NaN   \n",
       "1556                 Comedy|Science Fiction and Fantasy        Steve Barron   \n",
       "1557  Classics|Comedy|Drama|Musical and Performing Arts      Gordon Douglas   \n",
       "1558    Comedy|Drama|Kids and Family|Sports and Fitness  David Mickey Evans   \n",
       "1559  Action and Adventure|Art House and Internation...                 NaN   \n",
       "\n",
       "                                                writer  theater_date  \\\n",
       "1555                                               NaN  Aug 18, 2006   \n",
       "1556  Terry Turner|Tom Davis|Dan Aykroyd|Bonnie Turner  Jul 23, 1993   \n",
       "1557                                               NaN   Jan 1, 1962   \n",
       "1558                  David Mickey Evans|Robert Gunter   Apr 1, 1993   \n",
       "1559                                        Luc Besson  Sep 27, 2001   \n",
       "\n",
       "          dvd_date currency  box_office      runtime             studio  \n",
       "1555   Jan 2, 2007        $  33,886,034  106 minutes    New Line Cinema  \n",
       "1556  Apr 17, 2001      NaN         NaN   88 minutes  Paramount Vantage  \n",
       "1557  May 11, 2004      NaN         NaN  111 minutes                NaN  \n",
       "1558  Jan 29, 2002      NaN         NaN  101 minutes                NaN  \n",
       "1559  Feb 11, 2003      NaN         NaN   94 minutes  Columbia Pictures  "
      ]
     },
     "execution_count": 91,
     "metadata": {},
     "output_type": "execute_result"
    }
   ],
   "source": [
    "data.tail()"
   ]
  },
  {
   "cell_type": "markdown",
   "id": "a7d50311-7916-4d04-82ba-ef20c8798c33",
   "metadata": {},
   "source": [
    "GET INFORMATION ON THE DATA SET"
   ]
  },
  {
   "cell_type": "code",
   "execution_count": 92,
   "id": "f1d4beb9-4c78-44cf-8c1a-3c09721e7951",
   "metadata": {},
   "outputs": [
    {
     "name": "stdout",
     "output_type": "stream",
     "text": [
      "<class 'pandas.core.frame.DataFrame'>\n",
      "RangeIndex: 1560 entries, 0 to 1559\n",
      "Data columns (total 12 columns):\n",
      " #   Column        Non-Null Count  Dtype \n",
      "---  ------        --------------  ----- \n",
      " 0   id            1560 non-null   int64 \n",
      " 1   synopsis      1498 non-null   object\n",
      " 2   rating        1557 non-null   object\n",
      " 3   genre         1552 non-null   object\n",
      " 4   director      1361 non-null   object\n",
      " 5   writer        1111 non-null   object\n",
      " 6   theater_date  1201 non-null   object\n",
      " 7   dvd_date      1201 non-null   object\n",
      " 8   currency      340 non-null    object\n",
      " 9   box_office    340 non-null    object\n",
      " 10  runtime       1530 non-null   object\n",
      " 11  studio        494 non-null    object\n",
      "dtypes: int64(1), object(11)\n",
      "memory usage: 146.4+ KB\n"
     ]
    }
   ],
   "source": [
    "data.info()"
   ]
  },
  {
   "cell_type": "code",
   "execution_count": 93,
   "id": "e12f70fd-5f57-44ae-a85b-5175b28f1b5f",
   "metadata": {},
   "outputs": [
    {
     "data": {
      "text/plain": [
       "(1560, 12)"
      ]
     },
     "execution_count": 93,
     "metadata": {},
     "output_type": "execute_result"
    }
   ],
   "source": [
    "df = pd.DataFrame(data) \n",
    "df.shape"
   ]
  },
  {
   "cell_type": "markdown",
   "id": "70b838ec-0758-4b33-9ce6-928228f0503d",
   "metadata": {},
   "source": [
    "CHECK FOR NULL/MISSING VALUES IN THE DATA SET"
   ]
  },
  {
   "cell_type": "code",
   "execution_count": 94,
   "id": "17a19b38-e26e-4593-a0d9-81d99e02b836",
   "metadata": {},
   "outputs": [
    {
     "data": {
      "text/plain": [
       "id                 0\n",
       "synopsis          62\n",
       "rating             3\n",
       "genre              8\n",
       "director         199\n",
       "writer           449\n",
       "theater_date     359\n",
       "dvd_date         359\n",
       "currency        1220\n",
       "box_office      1220\n",
       "runtime           30\n",
       "studio          1066\n",
       "dtype: int64"
      ]
     },
     "execution_count": 94,
     "metadata": {},
     "output_type": "execute_result"
    }
   ],
   "source": [
    "data.isnull().sum()"
   ]
  },
  {
   "cell_type": "code",
   "execution_count": 95,
   "id": "570d088d-d5ab-45bc-b40e-821773f785d9",
   "metadata": {},
   "outputs": [
    {
     "data": {
      "text/plain": [
       "<Axes: >"
      ]
     },
     "execution_count": 95,
     "metadata": {},
     "output_type": "execute_result"
    },
    {
     "data": {
      "image/png": "[encoded data removed]",
      "text/plain": [
       "<Figure size 640x480 with 2 Axes>"
      ]
     },
     "metadata": {},
     "output_type": "display_data"
    }
   ],
   "source": [
    "sns.heatmap(data.isnull())"
   ]
  },
  {
   "cell_type": "markdown",
   "id": "c3a9e45e-e6e7-490d-a733-3c9d7c59f46a",
   "metadata": {},
   "source": [
    "GET PERCENTAGE OF MISSING VALUES"
   ]
  },
  {
   "cell_type": "code",
   "execution_count": 96,
   "id": "4c659216-8934-43f2-932e-d3da5c674324",
   "metadata": {},
   "outputs": [
    {
     "data": {
      "text/plain": [
       "id               0.000000\n",
       "synopsis         3.974359\n",
       "rating           0.192308\n",
       "genre            0.512821\n",
       "director        12.756410\n",
       "writer          28.782051\n",
       "theater_date    23.012821\n",
       "dvd_date        23.012821\n",
       "currency        78.205128\n",
       "box_office      78.205128\n",
       "runtime          1.923077\n",
       "studio          68.333333\n",
       "dtype: float64"
      ]
     },
     "execution_count": 96,
     "metadata": {},
     "output_type": "execute_result"
    }
   ],
   "source": [
    "df = pd.DataFrame(data)\n",
    "per_missingdata = df.isna().mean() * 100\n",
    "per_missingdata"
   ]
  },
  {
   "cell_type": "markdown",
   "id": "215d9958-8b44-442d-a5cf-c02b8656827d",
   "metadata": {},
   "source": [
    "DROP THE MISSING VALUES"
   ]
  },
  {
   "cell_type": "code",
   "execution_count": 12,
   "id": "d2fd0bc7-2295-4a16-93c3-3806e7d97874",
   "metadata": {},
   "outputs": [],
   "source": [
    "df_dropped = df.dropna()"
   ]
  },
  {
   "cell_type": "code",
   "execution_count": 13,
   "id": "fb2d5f0c-67c3-4764-8261-bd9f9b655368",
   "metadata": {},
   "outputs": [
    {
     "data": {
      "text/plain": [
       "(235, 12)"
      ]
     },
     "execution_count": 13,
     "metadata": {},
     "output_type": "execute_result"
    }
   ],
   "source": [
    "df_dropped.shape"
   ]
  },
  {
   "cell_type": "markdown",
   "id": "cc988dbb-fee7-4173-b743-84b50cc9496f",
   "metadata": {},
   "source": [
    "CHECK FOR DUPLICATE VALUES"
   ]
  },
  {
   "cell_type": "code",
   "execution_count": 14,
   "id": "bdf55899-7d58-49b8-8756-096e673993f5",
   "metadata": {},
   "outputs": [],
   "source": [
    "duplicate_data = df_dropped.duplicated().any()"
   ]
  },
  {
   "cell_type": "code",
   "execution_count": 15,
   "id": "2bc3e63c-b673-462b-9000-7b5b27ddaf5a",
   "metadata": {},
   "outputs": [
    {
     "name": "stdout",
     "output_type": "stream",
     "text": [
      "False\n"
     ]
    }
   ],
   "source": [
    "print(duplicate_data)"
   ]
  },
  {
   "cell_type": "markdown",
   "id": "a359500a-99ff-494e-bc21-038db0f820de",
   "metadata": {},
   "source": [
    "GET GENERAL STATISCTICS FOR BOTH NUMERICAL AND CATEGORICAL COLUMNS OF THE DATASET"
   ]
  },
  {
   "cell_type": "code",
   "execution_count": 16,
   "id": "5363ee4b-b329-4dc9-9cb4-8ccff3b700e9",
   "metadata": {},
   "outputs": [
    {
     "data": {
      "text/html": [
       "<div>\n",
       "<style scoped>\n",
       "    .dataframe tbody tr th:only-of-type {\n",
       "        vertical-align: middle;\n",
       "    }\n",
       "\n",
       "    .dataframe tbody tr th {\n",
       "        vertical-align: top;\n",
       "    }\n",
       "\n",
       "    .dataframe thead th {\n",
       "        text-align: right;\n",
       "    }\n",
       "</style>\n",
       "<table border=\"1\" class=\"dataframe\">\n",
       "  <thead>\n",
       "    <tr style=\"text-align: right;\">\n",
       "      <th></th>\n",
       "      <th>id</th>\n",
       "      <th>synopsis</th>\n",
       "      <th>rating</th>\n",
       "      <th>genre</th>\n",
       "      <th>director</th>\n",
       "      <th>writer</th>\n",
       "      <th>theater_date</th>\n",
       "      <th>dvd_date</th>\n",
       "      <th>currency</th>\n",
       "      <th>box_office</th>\n",
       "      <th>runtime</th>\n",
       "      <th>studio</th>\n",
       "    </tr>\n",
       "  </thead>\n",
       "  <tbody>\n",
       "    <tr>\n",
       "      <th>count</th>\n",
       "      <td>235.000000</td>\n",
       "      <td>235</td>\n",
       "      <td>235</td>\n",
       "      <td>235</td>\n",
       "      <td>235</td>\n",
       "      <td>235</td>\n",
       "      <td>235</td>\n",
       "      <td>235</td>\n",
       "      <td>235</td>\n",
       "      <td>235</td>\n",
       "      <td>235</td>\n",
       "      <td>235</td>\n",
       "    </tr>\n",
       "    <tr>\n",
       "      <th>unique</th>\n",
       "      <td>NaN</td>\n",
       "      <td>235</td>\n",
       "      <td>6</td>\n",
       "      <td>76</td>\n",
       "      <td>217</td>\n",
       "      <td>232</td>\n",
       "      <td>209</td>\n",
       "      <td>210</td>\n",
       "      <td>1</td>\n",
       "      <td>235</td>\n",
       "      <td>69</td>\n",
       "      <td>101</td>\n",
       "    </tr>\n",
       "    <tr>\n",
       "      <th>top</th>\n",
       "      <td>NaN</td>\n",
       "      <td>New York City, not-too-distant-future: Eric Pa...</td>\n",
       "      <td>R</td>\n",
       "      <td>Drama</td>\n",
       "      <td>Clint Eastwood</td>\n",
       "      <td>Mike White</td>\n",
       "      <td>Nov 18, 2016</td>\n",
       "      <td>Nov 4, 2014</td>\n",
       "      <td>$</td>\n",
       "      <td>600,000</td>\n",
       "      <td>91 minutes</td>\n",
       "      <td>Universal Pictures</td>\n",
       "    </tr>\n",
       "    <tr>\n",
       "      <th>freq</th>\n",
       "      <td>NaN</td>\n",
       "      <td>1</td>\n",
       "      <td>105</td>\n",
       "      <td>33</td>\n",
       "      <td>3</td>\n",
       "      <td>2</td>\n",
       "      <td>3</td>\n",
       "      <td>4</td>\n",
       "      <td>235</td>\n",
       "      <td>1</td>\n",
       "      <td>10</td>\n",
       "      <td>23</td>\n",
       "    </tr>\n",
       "    <tr>\n",
       "      <th>mean</th>\n",
       "      <td>1010.217021</td>\n",
       "      <td>NaN</td>\n",
       "      <td>NaN</td>\n",
       "      <td>NaN</td>\n",
       "      <td>NaN</td>\n",
       "      <td>NaN</td>\n",
       "      <td>NaN</td>\n",
       "      <td>NaN</td>\n",
       "      <td>NaN</td>\n",
       "      <td>NaN</td>\n",
       "      <td>NaN</td>\n",
       "      <td>NaN</td>\n",
       "    </tr>\n",
       "    <tr>\n",
       "      <th>std</th>\n",
       "      <td>578.522979</td>\n",
       "      <td>NaN</td>\n",
       "      <td>NaN</td>\n",
       "      <td>NaN</td>\n",
       "      <td>NaN</td>\n",
       "      <td>NaN</td>\n",
       "      <td>NaN</td>\n",
       "      <td>NaN</td>\n",
       "      <td>NaN</td>\n",
       "      <td>NaN</td>\n",
       "      <td>NaN</td>\n",
       "      <td>NaN</td>\n",
       "    </tr>\n",
       "    <tr>\n",
       "      <th>min</th>\n",
       "      <td>3.000000</td>\n",
       "      <td>NaN</td>\n",
       "      <td>NaN</td>\n",
       "      <td>NaN</td>\n",
       "      <td>NaN</td>\n",
       "      <td>NaN</td>\n",
       "      <td>NaN</td>\n",
       "      <td>NaN</td>\n",
       "      <td>NaN</td>\n",
       "      <td>NaN</td>\n",
       "      <td>NaN</td>\n",
       "      <td>NaN</td>\n",
       "    </tr>\n",
       "    <tr>\n",
       "      <th>25%</th>\n",
       "      <td>488.500000</td>\n",
       "      <td>NaN</td>\n",
       "      <td>NaN</td>\n",
       "      <td>NaN</td>\n",
       "      <td>NaN</td>\n",
       "      <td>NaN</td>\n",
       "      <td>NaN</td>\n",
       "      <td>NaN</td>\n",
       "      <td>NaN</td>\n",
       "      <td>NaN</td>\n",
       "      <td>NaN</td>\n",
       "      <td>NaN</td>\n",
       "    </tr>\n",
       "    <tr>\n",
       "      <th>50%</th>\n",
       "      <td>1044.000000</td>\n",
       "      <td>NaN</td>\n",
       "      <td>NaN</td>\n",
       "      <td>NaN</td>\n",
       "      <td>NaN</td>\n",
       "      <td>NaN</td>\n",
       "      <td>NaN</td>\n",
       "      <td>NaN</td>\n",
       "      <td>NaN</td>\n",
       "      <td>NaN</td>\n",
       "      <td>NaN</td>\n",
       "      <td>NaN</td>\n",
       "    </tr>\n",
       "    <tr>\n",
       "      <th>75%</th>\n",
       "      <td>1526.000000</td>\n",
       "      <td>NaN</td>\n",
       "      <td>NaN</td>\n",
       "      <td>NaN</td>\n",
       "      <td>NaN</td>\n",
       "      <td>NaN</td>\n",
       "      <td>NaN</td>\n",
       "      <td>NaN</td>\n",
       "      <td>NaN</td>\n",
       "      <td>NaN</td>\n",
       "      <td>NaN</td>\n",
       "      <td>NaN</td>\n",
       "    </tr>\n",
       "    <tr>\n",
       "      <th>max</th>\n",
       "      <td>1985.000000</td>\n",
       "      <td>NaN</td>\n",
       "      <td>NaN</td>\n",
       "      <td>NaN</td>\n",
       "      <td>NaN</td>\n",
       "      <td>NaN</td>\n",
       "      <td>NaN</td>\n",
       "      <td>NaN</td>\n",
       "      <td>NaN</td>\n",
       "      <td>NaN</td>\n",
       "      <td>NaN</td>\n",
       "      <td>NaN</td>\n",
       "    </tr>\n",
       "  </tbody>\n",
       "</table>\n",
       "</div>"
      ],
      "text/plain": [
       "                 id                                           synopsis rating  \\\n",
       "count    235.000000                                                235    235   \n",
       "unique          NaN                                                235      6   \n",
       "top             NaN  New York City, not-too-distant-future: Eric Pa...      R   \n",
       "freq            NaN                                                  1    105   \n",
       "mean    1010.217021                                                NaN    NaN   \n",
       "std      578.522979                                                NaN    NaN   \n",
       "min        3.000000                                                NaN    NaN   \n",
       "25%      488.500000                                                NaN    NaN   \n",
       "50%     1044.000000                                                NaN    NaN   \n",
       "75%     1526.000000                                                NaN    NaN   \n",
       "max     1985.000000                                                NaN    NaN   \n",
       "\n",
       "        genre        director      writer  theater_date     dvd_date currency  \\\n",
       "count     235             235         235           235          235      235   \n",
       "unique     76             217         232           209          210        1   \n",
       "top     Drama  Clint Eastwood  Mike White  Nov 18, 2016  Nov 4, 2014        $   \n",
       "freq       33               3           2             3            4      235   \n",
       "mean      NaN             NaN         NaN           NaN          NaN      NaN   \n",
       "std       NaN             NaN         NaN           NaN          NaN      NaN   \n",
       "min       NaN             NaN         NaN           NaN          NaN      NaN   \n",
       "25%       NaN             NaN         NaN           NaN          NaN      NaN   \n",
       "50%       NaN             NaN         NaN           NaN          NaN      NaN   \n",
       "75%       NaN             NaN         NaN           NaN          NaN      NaN   \n",
       "max       NaN             NaN         NaN           NaN          NaN      NaN   \n",
       "\n",
       "       box_office     runtime              studio  \n",
       "count         235         235                 235  \n",
       "unique        235          69                 101  \n",
       "top       600,000  91 minutes  Universal Pictures  \n",
       "freq            1          10                  23  \n",
       "mean          NaN         NaN                 NaN  \n",
       "std           NaN         NaN                 NaN  \n",
       "min           NaN         NaN                 NaN  \n",
       "25%           NaN         NaN                 NaN  \n",
       "50%           NaN         NaN                 NaN  \n",
       "75%           NaN         NaN                 NaN  \n",
       "max           NaN         NaN                 NaN  "
      ]
     },
     "execution_count": 16,
     "metadata": {},
     "output_type": "execute_result"
    }
   ],
   "source": [
    "df_dropped.describe( include='all')"
   ]
  },
  {
   "cell_type": "code",
   "execution_count": 17,
   "id": "3ec6c635-07da-4223-8c80-64ddf4d18228",
   "metadata": {},
   "outputs": [
    {
     "data": {
      "text/plain": [
       "Index(['id', 'synopsis', 'rating', 'genre', 'director', 'writer',\n",
       "       'theater_date', 'dvd_date', 'currency', 'box_office', 'runtime',\n",
       "       'studio'],\n",
       "      dtype='object')"
      ]
     },
     "execution_count": 17,
     "metadata": {},
     "output_type": "execute_result"
    }
   ],
   "source": [
    "df_dropped.columns"
   ]
  },
  {
   "cell_type": "markdown",
   "id": "f67b0999-6088-4afc-8afd-b6595b295529",
   "metadata": {},
   "source": [
    "DISPLAY TOP 10 MOVIES WITH HIGHEST BOX OFFICE SALES"
   ]
  },
  {
   "cell_type": "code",
   "execution_count": 97,
   "id": "73803e73-d0e6-4e65-a04c-c8ff92cd1ebe",
   "metadata": {},
   "outputs": [],
   "source": [
    "df = pd.DataFrame(data)\n",
    "df['box_office'] = df['box_office'] = pd.to_numeric(df['box_office'].str.replace(',', ''))\n",
    "df['runtime'] = df['runtime'].str.extract('(\\d+)').astype(float)"
   ]
  },
  {
   "cell_type": "code",
   "execution_count": 98,
   "id": "f5da773e-d984-499e-aba1-3a03d2c10880",
   "metadata": {},
   "outputs": [
    {
     "name": "stdout",
     "output_type": "stream",
     "text": [
      "<class 'pandas.core.frame.DataFrame'>\n",
      "RangeIndex: 1560 entries, 0 to 1559\n",
      "Data columns (total 12 columns):\n",
      " #   Column        Non-Null Count  Dtype  \n",
      "---  ------        --------------  -----  \n",
      " 0   id            1560 non-null   int64  \n",
      " 1   synopsis      1498 non-null   object \n",
      " 2   rating        1557 non-null   object \n",
      " 3   genre         1552 non-null   object \n",
      " 4   director      1361 non-null   object \n",
      " 5   writer        1111 non-null   object \n",
      " 6   theater_date  1201 non-null   object \n",
      " 7   dvd_date      1201 non-null   object \n",
      " 8   currency      340 non-null    object \n",
      " 9   box_office    340 non-null    float64\n",
      " 10  runtime       1530 non-null   float64\n",
      " 11  studio        494 non-null    object \n",
      "dtypes: float64(2), int64(1), object(9)\n",
      "memory usage: 146.4+ KB\n"
     ]
    }
   ],
   "source": [
    "df.info()"
   ]
  },
  {
   "cell_type": "code",
   "execution_count": 99,
   "id": "d03ccb50-b4e9-4e87-a734-3a367cab1c55",
   "metadata": {},
   "outputs": [],
   "source": [
    "top_10_by_box_office = df.sort_values(by='box_office', ascending=False).head(10)"
   ]
  },
  {
   "cell_type": "code",
   "execution_count": 100,
   "id": "377d409f-5109-4b5b-a34e-1c60ba31dfde",
   "metadata": {},
   "outputs": [
    {
     "data": {
      "text/html": [
       "<div>\n",
       "<style scoped>\n",
       "    .dataframe tbody tr th:only-of-type {\n",
       "        vertical-align: middle;\n",
       "    }\n",
       "\n",
       "    .dataframe tbody tr th {\n",
       "        vertical-align: top;\n",
       "    }\n",
       "\n",
       "    .dataframe thead th {\n",
       "        text-align: right;\n",
       "    }\n",
       "</style>\n",
       "<table border=\"1\" class=\"dataframe\">\n",
       "  <thead>\n",
       "    <tr style=\"text-align: right;\">\n",
       "      <th></th>\n",
       "      <th>id</th>\n",
       "      <th>synopsis</th>\n",
       "      <th>rating</th>\n",
       "      <th>genre</th>\n",
       "      <th>director</th>\n",
       "      <th>writer</th>\n",
       "      <th>theater_date</th>\n",
       "      <th>dvd_date</th>\n",
       "      <th>currency</th>\n",
       "      <th>box_office</th>\n",
       "      <th>runtime</th>\n",
       "      <th>studio</th>\n",
       "    </tr>\n",
       "  </thead>\n",
       "  <tbody>\n",
       "    <tr>\n",
       "      <th>827</th>\n",
       "      <td>1071</td>\n",
       "      <td>This depiction of the last 12 hours in the lif...</td>\n",
       "      <td>R</td>\n",
       "      <td>Drama</td>\n",
       "      <td>Mel Gibson</td>\n",
       "      <td>Mel Gibson|Benedict Fitzgerald</td>\n",
       "      <td>Feb 25, 2004</td>\n",
       "      <td>Aug 31, 2004</td>\n",
       "      <td>$</td>\n",
       "      <td>368000000.0</td>\n",
       "      <td>127.0</td>\n",
       "      <td>Newmarket Film Group</td>\n",
       "    </tr>\n",
       "    <tr>\n",
       "      <th>877</th>\n",
       "      <td>1136</td>\n",
       "      <td>The Hobbit: An Unexpected Journey follows titl...</td>\n",
       "      <td>PG-13</td>\n",
       "      <td>Action and Adventure|Science Fiction and Fantasy</td>\n",
       "      <td>Peter Jackson</td>\n",
       "      <td>Peter Jackson|Philippa Boyens|Guillermo del To...</td>\n",
       "      <td>Dec 14, 2012</td>\n",
       "      <td>Mar 19, 2013</td>\n",
       "      <td>$</td>\n",
       "      <td>303001229.0</td>\n",
       "      <td>170.0</td>\n",
       "      <td>Warner Bros.</td>\n",
       "    </tr>\n",
       "    <tr>\n",
       "      <th>1188</th>\n",
       "      <td>1525</td>\n",
       "      <td>In Skyfall, Bond's loyalty to M is tested as h...</td>\n",
       "      <td>PG-13</td>\n",
       "      <td>Action and Adventure|Mystery and Suspense</td>\n",
       "      <td>Sam Mendes</td>\n",
       "      <td>John Logan|Robert Wade|Neal Purvis</td>\n",
       "      <td>Nov 9, 2012</td>\n",
       "      <td>Mar 11, 2013</td>\n",
       "      <td>$</td>\n",
       "      <td>299300000.0</td>\n",
       "      <td>145.0</td>\n",
       "      <td>MGM</td>\n",
       "    </tr>\n",
       "    <tr>\n",
       "      <th>690</th>\n",
       "      <td>883</td>\n",
       "      <td>Now that Greg Focker is \"in\" with his soon-to-...</td>\n",
       "      <td>PG-13</td>\n",
       "      <td>Comedy</td>\n",
       "      <td>Jay Roach</td>\n",
       "      <td>Jim Herzfeld|John Hamburg</td>\n",
       "      <td>Dec 22, 2004</td>\n",
       "      <td>Apr 26, 2005</td>\n",
       "      <td>$</td>\n",
       "      <td>279167575.0</td>\n",
       "      <td>118.0</td>\n",
       "      <td>Universal Pictures</td>\n",
       "    </tr>\n",
       "    <tr>\n",
       "      <th>1117</th>\n",
       "      <td>1442</td>\n",
       "      <td>Youthful wizard Harry Potter returns to the sc...</td>\n",
       "      <td>PG</td>\n",
       "      <td>Kids and Family|Science Fiction and Fantasy</td>\n",
       "      <td>Chris Columbus</td>\n",
       "      <td>Steve Kloves</td>\n",
       "      <td>Nov 15, 2002</td>\n",
       "      <td>Apr 11, 2003</td>\n",
       "      <td>$</td>\n",
       "      <td>261835892.0</td>\n",
       "      <td>161.0</td>\n",
       "      <td>Warner Bros. Pictures</td>\n",
       "    </tr>\n",
       "    <tr>\n",
       "      <th>966</th>\n",
       "      <td>1255</td>\n",
       "      <td>Mission: Impossible III director and Alias cre...</td>\n",
       "      <td>PG-13</td>\n",
       "      <td>Action and Adventure|Drama|Science Fiction and...</td>\n",
       "      <td>NaN</td>\n",
       "      <td>Gene Roddenberry|Alex Kurtzman|Roberto Orci</td>\n",
       "      <td>May 7, 2009</td>\n",
       "      <td>Nov 17, 2009</td>\n",
       "      <td>$</td>\n",
       "      <td>257704099.0</td>\n",
       "      <td>127.0</td>\n",
       "      <td>IMAX</td>\n",
       "    </tr>\n",
       "    <tr>\n",
       "      <th>504</th>\n",
       "      <td>661</td>\n",
       "      <td>One woman's rocky road to the altar gets playe...</td>\n",
       "      <td>PG</td>\n",
       "      <td>Comedy|Romance</td>\n",
       "      <td>Joel Zwick</td>\n",
       "      <td>Nia Vardalos</td>\n",
       "      <td>Apr 19, 2002</td>\n",
       "      <td>Feb 11, 2003</td>\n",
       "      <td>$</td>\n",
       "      <td>241250669.0</td>\n",
       "      <td>95.0</td>\n",
       "      <td>IFC Films</td>\n",
       "    </tr>\n",
       "    <tr>\n",
       "      <th>657</th>\n",
       "      <td>841</td>\n",
       "      <td>This is a contemporary retelling of H.G. Wells...</td>\n",
       "      <td>PG-13</td>\n",
       "      <td>Action and Adventure|Science Fiction and Fantasy</td>\n",
       "      <td>Steven Spielberg</td>\n",
       "      <td>Josh Friedman|David Koepp</td>\n",
       "      <td>Jun 29, 2005</td>\n",
       "      <td>Nov 22, 2005</td>\n",
       "      <td>$</td>\n",
       "      <td>234141872.0</td>\n",
       "      <td>117.0</td>\n",
       "      <td>Paramount Pictures</td>\n",
       "    </tr>\n",
       "    <tr>\n",
       "      <th>1458</th>\n",
       "      <td>1877</td>\n",
       "      <td>A hard-drinking lush finds himself thrust into...</td>\n",
       "      <td>PG-13</td>\n",
       "      <td>Action and Adventure|Comedy|Drama</td>\n",
       "      <td>Peter Berg</td>\n",
       "      <td>Vincent Gilligan|Vince Gilligan|Vy Vincent Ngo</td>\n",
       "      <td>Jun 16, 2008</td>\n",
       "      <td>Nov 25, 2008</td>\n",
       "      <td>$</td>\n",
       "      <td>227946274.0</td>\n",
       "      <td>92.0</td>\n",
       "      <td>Columbia Pictures</td>\n",
       "    </tr>\n",
       "    <tr>\n",
       "      <th>1237</th>\n",
       "      <td>1600</td>\n",
       "      <td>When a failed assassination attempt occurs on ...</td>\n",
       "      <td>PG-13</td>\n",
       "      <td>Action and Adventure|Science Fiction and Fantasy</td>\n",
       "      <td>Bryan Singer</td>\n",
       "      <td>Daniel Harris|Dan Harris|Michael Dougherty|Bry...</td>\n",
       "      <td>May 2, 2003</td>\n",
       "      <td>Nov 25, 2003</td>\n",
       "      <td>$</td>\n",
       "      <td>214813155.0</td>\n",
       "      <td>134.0</td>\n",
       "      <td>20th Century Fox</td>\n",
       "    </tr>\n",
       "  </tbody>\n",
       "</table>\n",
       "</div>"
      ],
      "text/plain": [
       "        id                                           synopsis rating  \\\n",
       "827   1071  This depiction of the last 12 hours in the lif...      R   \n",
       "877   1136  The Hobbit: An Unexpected Journey follows titl...  PG-13   \n",
       "1188  1525  In Skyfall, Bond's loyalty to M is tested as h...  PG-13   \n",
       "690    883  Now that Greg Focker is \"in\" with his soon-to-...  PG-13   \n",
       "1117  1442  Youthful wizard Harry Potter returns to the sc...     PG   \n",
       "966   1255  Mission: Impossible III director and Alias cre...  PG-13   \n",
       "504    661  One woman's rocky road to the altar gets playe...     PG   \n",
       "657    841  This is a contemporary retelling of H.G. Wells...  PG-13   \n",
       "1458  1877  A hard-drinking lush finds himself thrust into...  PG-13   \n",
       "1237  1600  When a failed assassination attempt occurs on ...  PG-13   \n",
       "\n",
       "                                                  genre          director  \\\n",
       "827                                               Drama        Mel Gibson   \n",
       "877    Action and Adventure|Science Fiction and Fantasy     Peter Jackson   \n",
       "1188          Action and Adventure|Mystery and Suspense        Sam Mendes   \n",
       "690                                              Comedy         Jay Roach   \n",
       "1117        Kids and Family|Science Fiction and Fantasy    Chris Columbus   \n",
       "966   Action and Adventure|Drama|Science Fiction and...               NaN   \n",
       "504                                      Comedy|Romance        Joel Zwick   \n",
       "657    Action and Adventure|Science Fiction and Fantasy  Steven Spielberg   \n",
       "1458                  Action and Adventure|Comedy|Drama        Peter Berg   \n",
       "1237   Action and Adventure|Science Fiction and Fantasy      Bryan Singer   \n",
       "\n",
       "                                                 writer  theater_date  \\\n",
       "827                      Mel Gibson|Benedict Fitzgerald  Feb 25, 2004   \n",
       "877   Peter Jackson|Philippa Boyens|Guillermo del To...  Dec 14, 2012   \n",
       "1188                 John Logan|Robert Wade|Neal Purvis   Nov 9, 2012   \n",
       "690                           Jim Herzfeld|John Hamburg  Dec 22, 2004   \n",
       "1117                                       Steve Kloves  Nov 15, 2002   \n",
       "966         Gene Roddenberry|Alex Kurtzman|Roberto Orci   May 7, 2009   \n",
       "504                                        Nia Vardalos  Apr 19, 2002   \n",
       "657                           Josh Friedman|David Koepp  Jun 29, 2005   \n",
       "1458     Vincent Gilligan|Vince Gilligan|Vy Vincent Ngo  Jun 16, 2008   \n",
       "1237  Daniel Harris|Dan Harris|Michael Dougherty|Bry...   May 2, 2003   \n",
       "\n",
       "          dvd_date currency   box_office  runtime                 studio  \n",
       "827   Aug 31, 2004        $  368000000.0    127.0   Newmarket Film Group  \n",
       "877   Mar 19, 2013        $  303001229.0    170.0           Warner Bros.  \n",
       "1188  Mar 11, 2013        $  299300000.0    145.0                    MGM  \n",
       "690   Apr 26, 2005        $  279167575.0    118.0     Universal Pictures  \n",
       "1117  Apr 11, 2003        $  261835892.0    161.0  Warner Bros. Pictures  \n",
       "966   Nov 17, 2009        $  257704099.0    127.0                   IMAX  \n",
       "504   Feb 11, 2003        $  241250669.0     95.0              IFC Films  \n",
       "657   Nov 22, 2005        $  234141872.0    117.0     Paramount Pictures  \n",
       "1458  Nov 25, 2008        $  227946274.0     92.0      Columbia Pictures  \n",
       "1237  Nov 25, 2003        $  214813155.0    134.0       20th Century Fox  "
      ]
     },
     "execution_count": 100,
     "metadata": {},
     "output_type": "execute_result"
    }
   ],
   "source": [
    "top_10_by_box_office"
   ]
  },
  {
   "cell_type": "code",
   "execution_count": 101,
   "id": "964570e3-7d07-432b-bd68-e1b42654d90b",
   "metadata": {},
   "outputs": [],
   "source": [
    "df['genre'] = df['genre'].astype('category')"
   ]
  },
  {
   "cell_type": "code",
   "execution_count": 104,
   "id": "51bf8920-c9e6-40c4-87f3-cae1b1fd4876",
   "metadata": {},
   "outputs": [
    {
     "data": {
      "image/png": "[encoded data removed]",
      "text/plain": [
       "<Figure size 640x480 with 1 Axes>"
      ]
     },
     "metadata": {},
     "output_type": "display_data"
    }
   ],
   "source": [
    "sns.barplot( y= 'genre', x = 'box_office', data = top_10_by_box_office,errorbar=None)\n",
    "plt.title('Genres of Top 10 Movies in the Box Office')\n",
    "plt.show()"
   ]
  },
  {
   "cell_type": "markdown",
   "id": "9fa3b0cb-65c3-4766-a1a7-bc7a0e6ebacc",
   "metadata": {},
   "source": [
    "SHOW DIRECTORS OF TOP 10 MOVIES IN THE BOX OFFICE"
   ]
  },
  {
   "cell_type": "code",
   "execution_count": 23,
   "id": "966e3888-2dc4-4ad3-83a8-93e53c1fc044",
   "metadata": {},
   "outputs": [],
   "source": [
    "top_10_by_box_office = df.sort_values(by='box_office', ascending=False).head(10) [['director','genre','box_office']]"
   ]
  },
  {
   "cell_type": "code",
   "execution_count": 24,
   "id": "d74a3a03-9bd6-4e44-aa8d-e1eff959810a",
   "metadata": {},
   "outputs": [
    {
     "data": {
      "text/html": [
       "<div>\n",
       "<style scoped>\n",
       "    .dataframe tbody tr th:only-of-type {\n",
       "        vertical-align: middle;\n",
       "    }\n",
       "\n",
       "    .dataframe tbody tr th {\n",
       "        vertical-align: top;\n",
       "    }\n",
       "\n",
       "    .dataframe thead th {\n",
       "        text-align: right;\n",
       "    }\n",
       "</style>\n",
       "<table border=\"1\" class=\"dataframe\">\n",
       "  <thead>\n",
       "    <tr style=\"text-align: right;\">\n",
       "      <th></th>\n",
       "      <th>director</th>\n",
       "      <th>genre</th>\n",
       "      <th>box_office</th>\n",
       "    </tr>\n",
       "  </thead>\n",
       "  <tbody>\n",
       "    <tr>\n",
       "      <th>827</th>\n",
       "      <td>Mel Gibson</td>\n",
       "      <td>Drama</td>\n",
       "      <td>368000000.0</td>\n",
       "    </tr>\n",
       "    <tr>\n",
       "      <th>877</th>\n",
       "      <td>Peter Jackson</td>\n",
       "      <td>Action and Adventure|Science Fiction and Fantasy</td>\n",
       "      <td>303001229.0</td>\n",
       "    </tr>\n",
       "    <tr>\n",
       "      <th>1188</th>\n",
       "      <td>Sam Mendes</td>\n",
       "      <td>Action and Adventure|Mystery and Suspense</td>\n",
       "      <td>299300000.0</td>\n",
       "    </tr>\n",
       "    <tr>\n",
       "      <th>690</th>\n",
       "      <td>Jay Roach</td>\n",
       "      <td>Comedy</td>\n",
       "      <td>279167575.0</td>\n",
       "    </tr>\n",
       "    <tr>\n",
       "      <th>1117</th>\n",
       "      <td>Chris Columbus</td>\n",
       "      <td>Kids and Family|Science Fiction and Fantasy</td>\n",
       "      <td>261835892.0</td>\n",
       "    </tr>\n",
       "    <tr>\n",
       "      <th>966</th>\n",
       "      <td>NaN</td>\n",
       "      <td>Action and Adventure|Drama|Science Fiction and...</td>\n",
       "      <td>257704099.0</td>\n",
       "    </tr>\n",
       "    <tr>\n",
       "      <th>504</th>\n",
       "      <td>Joel Zwick</td>\n",
       "      <td>Comedy|Romance</td>\n",
       "      <td>241250669.0</td>\n",
       "    </tr>\n",
       "    <tr>\n",
       "      <th>657</th>\n",
       "      <td>Steven Spielberg</td>\n",
       "      <td>Action and Adventure|Science Fiction and Fantasy</td>\n",
       "      <td>234141872.0</td>\n",
       "    </tr>\n",
       "    <tr>\n",
       "      <th>1458</th>\n",
       "      <td>Peter Berg</td>\n",
       "      <td>Action and Adventure|Comedy|Drama</td>\n",
       "      <td>227946274.0</td>\n",
       "    </tr>\n",
       "    <tr>\n",
       "      <th>1237</th>\n",
       "      <td>Bryan Singer</td>\n",
       "      <td>Action and Adventure|Science Fiction and Fantasy</td>\n",
       "      <td>214813155.0</td>\n",
       "    </tr>\n",
       "  </tbody>\n",
       "</table>\n",
       "</div>"
      ],
      "text/plain": [
       "              director                                              genre  \\\n",
       "827         Mel Gibson                                              Drama   \n",
       "877      Peter Jackson   Action and Adventure|Science Fiction and Fantasy   \n",
       "1188        Sam Mendes          Action and Adventure|Mystery and Suspense   \n",
       "690          Jay Roach                                             Comedy   \n",
       "1117    Chris Columbus        Kids and Family|Science Fiction and Fantasy   \n",
       "966                NaN  Action and Adventure|Drama|Science Fiction and...   \n",
       "504         Joel Zwick                                     Comedy|Romance   \n",
       "657   Steven Spielberg   Action and Adventure|Science Fiction and Fantasy   \n",
       "1458        Peter Berg                  Action and Adventure|Comedy|Drama   \n",
       "1237      Bryan Singer   Action and Adventure|Science Fiction and Fantasy   \n",
       "\n",
       "       box_office  \n",
       "827   368000000.0  \n",
       "877   303001229.0  \n",
       "1188  299300000.0  \n",
       "690   279167575.0  \n",
       "1117  261835892.0  \n",
       "966   257704099.0  \n",
       "504   241250669.0  \n",
       "657   234141872.0  \n",
       "1458  227946274.0  \n",
       "1237  214813155.0  "
      ]
     },
     "execution_count": 24,
     "metadata": {},
     "output_type": "execute_result"
    }
   ],
   "source": [
    "top_10_by_box_office "
   ]
  },
  {
   "cell_type": "code",
   "execution_count": 25,
   "id": "1c4305e3-adb3-40d6-9d12-3c99d9abdb77",
   "metadata": {},
   "outputs": [
    {
     "data": {
      "image/png": "[encoded data removed]",
      "text/plain": [
       "<Figure size 1000x1000 with 1 Axes>"
      ]
     },
     "metadata": {},
     "output_type": "display_data"
    }
   ],
   "source": [
    "plt.figure(figsize=(10, 10))\n",
    "plt.pie(top_10_by_box_office['box_office'], labels=top_10_by_box_office['director'], autopct='%1.1f%%', startangle=140, textprops={'fontsize': 10})\n",
    "plt.title('Top 10 Directors by Box Office')\n",
    "plt.axis('equal')\n",
    "plt.show()\n"
   ]
  },
  {
   "cell_type": "markdown",
   "id": "f2566349-5fb1-4683-9c56-e7929b9344a6",
   "metadata": {},
   "source": [
    "WHAT IS THE AVERAGE RUNTIME OF TOP 100 MOVIES IN THE BOX OFFICE"
   ]
  },
  {
   "cell_type": "code",
   "execution_count": 26,
   "id": "accbd01a-599f-48d3-b54a-f6aba93a4f09",
   "metadata": {},
   "outputs": [],
   "source": [
    "top_100_by_box_office = df.sort_values(by='box_office', ascending=False).head(100) [['director','genre','box_office','runtime']]"
   ]
  },
  {
   "cell_type": "code",
   "execution_count": 27,
   "id": "d53574ce-97b4-43ee-b5c9-8d10afee56da",
   "metadata": {},
   "outputs": [],
   "source": [
    "average_runtime = top_100_by_box_office['runtime'].mean()"
   ]
  },
  {
   "cell_type": "code",
   "execution_count": 28,
   "id": "a1fb401d-07f4-4b80-9913-de676d8c6eda",
   "metadata": {},
   "outputs": [
    {
     "data": {
      "text/plain": [
       "109.34343434343434"
      ]
     },
     "execution_count": 28,
     "metadata": {},
     "output_type": "execute_result"
    }
   ],
   "source": [
    "average_runtime"
   ]
  },
  {
   "cell_type": "markdown",
   "id": "2d9836cc-21e6-4e41-8898-84b8d68cc937",
   "metadata": {},
   "source": [
    "IMPORT DATA SET FOR TN MOVIE BUDGETS"
   ]
  },
  {
   "cell_type": "code",
   "execution_count": 29,
   "id": "a468ed2f-daf4-4ee9-944b-27d9c4313332",
   "metadata": {},
   "outputs": [],
   "source": [
    "data = pd.read_csv(r'C:/Users/PC/Music/DataScience_Phase_1_Project/dsc-phase-1-project-v2-4/zippedData/tn.movie_budgets.csv')"
   ]
  },
  {
   "cell_type": "markdown",
   "id": "401ce568-9be0-4ec5-ac25-c0f2442a5ec8",
   "metadata": {},
   "source": [
    "DISPLAY FIRST FIVE ROWS"
   ]
  },
  {
   "cell_type": "code",
   "execution_count": 30,
   "id": "2971a692-7eb5-474e-a30b-5d5280f316f8",
   "metadata": {},
   "outputs": [
    {
     "data": {
      "text/html": [
       "<div>\n",
       "<style scoped>\n",
       "    .dataframe tbody tr th:only-of-type {\n",
       "        vertical-align: middle;\n",
       "    }\n",
       "\n",
       "    .dataframe tbody tr th {\n",
       "        vertical-align: top;\n",
       "    }\n",
       "\n",
       "    .dataframe thead th {\n",
       "        text-align: right;\n",
       "    }\n",
       "</style>\n",
       "<table border=\"1\" class=\"dataframe\">\n",
       "  <thead>\n",
       "    <tr style=\"text-align: right;\">\n",
       "      <th></th>\n",
       "      <th>id</th>\n",
       "      <th>release_date</th>\n",
       "      <th>movie</th>\n",
       "      <th>production_budget</th>\n",
       "      <th>domestic_gross</th>\n",
       "      <th>worldwide_gross</th>\n",
       "    </tr>\n",
       "  </thead>\n",
       "  <tbody>\n",
       "    <tr>\n",
       "      <th>0</th>\n",
       "      <td>1</td>\n",
       "      <td>Dec 18, 2009</td>\n",
       "      <td>Avatar</td>\n",
       "      <td>$425,000,000</td>\n",
       "      <td>$760,507,625</td>\n",
       "      <td>$2,776,345,279</td>\n",
       "    </tr>\n",
       "    <tr>\n",
       "      <th>1</th>\n",
       "      <td>2</td>\n",
       "      <td>May 20, 2011</td>\n",
       "      <td>Pirates of the Caribbean: On Stranger Tides</td>\n",
       "      <td>$410,600,000</td>\n",
       "      <td>$241,063,875</td>\n",
       "      <td>$1,045,663,875</td>\n",
       "    </tr>\n",
       "    <tr>\n",
       "      <th>2</th>\n",
       "      <td>3</td>\n",
       "      <td>Jun 7, 2019</td>\n",
       "      <td>Dark Phoenix</td>\n",
       "      <td>$350,000,000</td>\n",
       "      <td>$42,762,350</td>\n",
       "      <td>$149,762,350</td>\n",
       "    </tr>\n",
       "    <tr>\n",
       "      <th>3</th>\n",
       "      <td>4</td>\n",
       "      <td>May 1, 2015</td>\n",
       "      <td>Avengers: Age of Ultron</td>\n",
       "      <td>$330,600,000</td>\n",
       "      <td>$459,005,868</td>\n",
       "      <td>$1,403,013,963</td>\n",
       "    </tr>\n",
       "    <tr>\n",
       "      <th>4</th>\n",
       "      <td>5</td>\n",
       "      <td>Dec 15, 2017</td>\n",
       "      <td>Star Wars Ep. VIII: The Last Jedi</td>\n",
       "      <td>$317,000,000</td>\n",
       "      <td>$620,181,382</td>\n",
       "      <td>$1,316,721,747</td>\n",
       "    </tr>\n",
       "  </tbody>\n",
       "</table>\n",
       "</div>"
      ],
      "text/plain": [
       "   id  release_date                                        movie  \\\n",
       "0   1  Dec 18, 2009                                       Avatar   \n",
       "1   2  May 20, 2011  Pirates of the Caribbean: On Stranger Tides   \n",
       "2   3   Jun 7, 2019                                 Dark Phoenix   \n",
       "3   4   May 1, 2015                      Avengers: Age of Ultron   \n",
       "4   5  Dec 15, 2017            Star Wars Ep. VIII: The Last Jedi   \n",
       "\n",
       "  production_budget domestic_gross worldwide_gross  \n",
       "0      $425,000,000   $760,507,625  $2,776,345,279  \n",
       "1      $410,600,000   $241,063,875  $1,045,663,875  \n",
       "2      $350,000,000    $42,762,350    $149,762,350  \n",
       "3      $330,600,000   $459,005,868  $1,403,013,963  \n",
       "4      $317,000,000   $620,181,382  $1,316,721,747  "
      ]
     },
     "execution_count": 30,
     "metadata": {},
     "output_type": "execute_result"
    }
   ],
   "source": [
    "data.head()"
   ]
  },
  {
   "cell_type": "markdown",
   "id": "c0e62ddc-0655-4ebe-b953-fe552e906d1c",
   "metadata": {},
   "source": [
    "GET INFORMATION ON NUMBER OF ROWS AND COLUMNS AND DATA TYPES OF EACH COLUMN IN THE DATASET"
   ]
  },
  {
   "cell_type": "code",
   "execution_count": 31,
   "id": "c11dfb48-881b-48ab-b831-f3c032a519a1",
   "metadata": {},
   "outputs": [
    {
     "name": "stdout",
     "output_type": "stream",
     "text": [
      "<class 'pandas.core.frame.DataFrame'>\n",
      "RangeIndex: 5782 entries, 0 to 5781\n",
      "Data columns (total 6 columns):\n",
      " #   Column             Non-Null Count  Dtype \n",
      "---  ------             --------------  ----- \n",
      " 0   id                 5782 non-null   int64 \n",
      " 1   release_date       5782 non-null   object\n",
      " 2   movie              5782 non-null   object\n",
      " 3   production_budget  5782 non-null   object\n",
      " 4   domestic_gross     5782 non-null   object\n",
      " 5   worldwide_gross    5782 non-null   object\n",
      "dtypes: int64(1), object(5)\n",
      "memory usage: 271.2+ KB\n"
     ]
    }
   ],
   "source": [
    "data.info()"
   ]
  },
  {
   "cell_type": "code",
   "execution_count": 32,
   "id": "7a0892ef-f8c4-4019-a41c-6b1f7a22bfac",
   "metadata": {},
   "outputs": [
    {
     "data": {
      "text/plain": [
       "(5782, 6)"
      ]
     },
     "execution_count": 32,
     "metadata": {},
     "output_type": "execute_result"
    }
   ],
   "source": [
    "df = pd.DataFrame(data) \n",
    "df.shape"
   ]
  },
  {
   "cell_type": "markdown",
   "id": "bb694fd5-cac6-4b48-89fd-6ee092fa6487",
   "metadata": {},
   "source": [
    "CHECK FOR MISSING VALUES IN THE DATA SET"
   ]
  },
  {
   "cell_type": "code",
   "execution_count": 33,
   "id": "ebf24960-d9dd-4dda-9600-2a1063ac66f2",
   "metadata": {},
   "outputs": [
    {
     "data": {
      "text/plain": [
       "id                   0\n",
       "release_date         0\n",
       "movie                0\n",
       "production_budget    0\n",
       "domestic_gross       0\n",
       "worldwide_gross      0\n",
       "dtype: int64"
      ]
     },
     "execution_count": 33,
     "metadata": {},
     "output_type": "execute_result"
    }
   ],
   "source": [
    "data.isnull().sum()"
   ]
  },
  {
   "cell_type": "markdown",
   "id": "dfaed6e3-4314-4e63-ae40-49f2ad0e6e59",
   "metadata": {},
   "source": [
    "CHECK FOR DUPLICATE VALUES"
   ]
  },
  {
   "cell_type": "code",
   "execution_count": 34,
   "id": "1d6c3ed9-745b-455e-9984-c937d3833a4c",
   "metadata": {},
   "outputs": [],
   "source": [
    "duplicate_data = data.duplicated().any()"
   ]
  },
  {
   "cell_type": "code",
   "execution_count": 35,
   "id": "d8bfd413-0361-437a-a4dc-3dd3bc3fdfcf",
   "metadata": {},
   "outputs": [
    {
     "name": "stdout",
     "output_type": "stream",
     "text": [
      "False\n"
     ]
    }
   ],
   "source": [
    "print(duplicate_data)"
   ]
  },
  {
   "cell_type": "code",
   "execution_count": 36,
   "id": "25a72bdd-338c-406b-b047-cea0654b39fc",
   "metadata": {},
   "outputs": [
    {
     "data": {
      "text/plain": [
       "Index(['id', 'release_date', 'movie', 'production_budget', 'domestic_gross',\n",
       "       'worldwide_gross'],\n",
       "      dtype='object')"
      ]
     },
     "execution_count": 36,
     "metadata": {},
     "output_type": "execute_result"
    }
   ],
   "source": [
    "data.columns"
   ]
  },
  {
   "cell_type": "markdown",
   "id": "6cf41afb-7c0a-43b8-b0eb-8577aae3efa1",
   "metadata": {},
   "source": [
    "CONVERT THE RELEVANT OBJECTS DATA TYPES TO INTEGERS"
   ]
  },
  {
   "cell_type": "code",
   "execution_count": 37,
   "id": "640dc0ac-b259-40ae-a9b1-c3df8b62af0a",
   "metadata": {},
   "outputs": [],
   "source": [
    "df = pd.DataFrame(data)\n",
    "df['production_budget'] =  pd.to_numeric(df['production_budget'].str.replace(',', '').str.replace('$', ''))\n",
    "df['domestic_gross'] = pd.to_numeric(df['domestic_gross'].str.replace(',', '').str.replace('$', ''))\n",
    "df['worldwide_gross'] = pd.to_numeric(df['worldwide_gross'].str.replace(',', '').str.replace('$', ''))"
   ]
  },
  {
   "cell_type": "code",
   "execution_count": 38,
   "id": "ef76549b-7a48-49b1-8485-ca5a27cd33eb",
   "metadata": {},
   "outputs": [
    {
     "name": "stdout",
     "output_type": "stream",
     "text": [
      "<class 'pandas.core.frame.DataFrame'>\n",
      "RangeIndex: 5782 entries, 0 to 5781\n",
      "Data columns (total 6 columns):\n",
      " #   Column             Non-Null Count  Dtype \n",
      "---  ------             --------------  ----- \n",
      " 0   id                 5782 non-null   int64 \n",
      " 1   release_date       5782 non-null   object\n",
      " 2   movie              5782 non-null   object\n",
      " 3   production_budget  5782 non-null   int64 \n",
      " 4   domestic_gross     5782 non-null   int64 \n",
      " 5   worldwide_gross    5782 non-null   int64 \n",
      "dtypes: int64(4), object(2)\n",
      "memory usage: 271.2+ KB\n"
     ]
    }
   ],
   "source": [
    "df.info()"
   ]
  },
  {
   "cell_type": "markdown",
   "id": "52857717-8318-48eb-b4d9-518384f0b7d8",
   "metadata": {},
   "source": [
    "GET GENERAL STATISCTICS FOR BOTH NUMERICAL AND CATEGORICAL COLUMNS OF THE DATASET"
   ]
  },
  {
   "cell_type": "code",
   "execution_count": 39,
   "id": "8e502d49-1ab3-4e03-91fe-b17f39414aea",
   "metadata": {},
   "outputs": [
    {
     "data": {
      "text/html": [
       "<div>\n",
       "<style scoped>\n",
       "    .dataframe tbody tr th:only-of-type {\n",
       "        vertical-align: middle;\n",
       "    }\n",
       "\n",
       "    .dataframe tbody tr th {\n",
       "        vertical-align: top;\n",
       "    }\n",
       "\n",
       "    .dataframe thead th {\n",
       "        text-align: right;\n",
       "    }\n",
       "</style>\n",
       "<table border=\"1\" class=\"dataframe\">\n",
       "  <thead>\n",
       "    <tr style=\"text-align: right;\">\n",
       "      <th></th>\n",
       "      <th>id</th>\n",
       "      <th>release_date</th>\n",
       "      <th>movie</th>\n",
       "      <th>production_budget</th>\n",
       "      <th>domestic_gross</th>\n",
       "      <th>worldwide_gross</th>\n",
       "    </tr>\n",
       "  </thead>\n",
       "  <tbody>\n",
       "    <tr>\n",
       "      <th>count</th>\n",
       "      <td>5782.000000</td>\n",
       "      <td>5782</td>\n",
       "      <td>5782</td>\n",
       "      <td>5.782000e+03</td>\n",
       "      <td>5.782000e+03</td>\n",
       "      <td>5.782000e+03</td>\n",
       "    </tr>\n",
       "    <tr>\n",
       "      <th>unique</th>\n",
       "      <td>NaN</td>\n",
       "      <td>2418</td>\n",
       "      <td>5698</td>\n",
       "      <td>NaN</td>\n",
       "      <td>NaN</td>\n",
       "      <td>NaN</td>\n",
       "    </tr>\n",
       "    <tr>\n",
       "      <th>top</th>\n",
       "      <td>NaN</td>\n",
       "      <td>Dec 31, 2014</td>\n",
       "      <td>Halloween</td>\n",
       "      <td>NaN</td>\n",
       "      <td>NaN</td>\n",
       "      <td>NaN</td>\n",
       "    </tr>\n",
       "    <tr>\n",
       "      <th>freq</th>\n",
       "      <td>NaN</td>\n",
       "      <td>24</td>\n",
       "      <td>3</td>\n",
       "      <td>NaN</td>\n",
       "      <td>NaN</td>\n",
       "      <td>NaN</td>\n",
       "    </tr>\n",
       "    <tr>\n",
       "      <th>mean</th>\n",
       "      <td>50.372363</td>\n",
       "      <td>NaN</td>\n",
       "      <td>NaN</td>\n",
       "      <td>3.158776e+07</td>\n",
       "      <td>4.187333e+07</td>\n",
       "      <td>9.148746e+07</td>\n",
       "    </tr>\n",
       "    <tr>\n",
       "      <th>std</th>\n",
       "      <td>28.821076</td>\n",
       "      <td>NaN</td>\n",
       "      <td>NaN</td>\n",
       "      <td>4.181208e+07</td>\n",
       "      <td>6.824060e+07</td>\n",
       "      <td>1.747200e+08</td>\n",
       "    </tr>\n",
       "    <tr>\n",
       "      <th>min</th>\n",
       "      <td>1.000000</td>\n",
       "      <td>NaN</td>\n",
       "      <td>NaN</td>\n",
       "      <td>1.100000e+03</td>\n",
       "      <td>0.000000e+00</td>\n",
       "      <td>0.000000e+00</td>\n",
       "    </tr>\n",
       "    <tr>\n",
       "      <th>25%</th>\n",
       "      <td>25.000000</td>\n",
       "      <td>NaN</td>\n",
       "      <td>NaN</td>\n",
       "      <td>5.000000e+06</td>\n",
       "      <td>1.429534e+06</td>\n",
       "      <td>4.125415e+06</td>\n",
       "    </tr>\n",
       "    <tr>\n",
       "      <th>50%</th>\n",
       "      <td>50.000000</td>\n",
       "      <td>NaN</td>\n",
       "      <td>NaN</td>\n",
       "      <td>1.700000e+07</td>\n",
       "      <td>1.722594e+07</td>\n",
       "      <td>2.798445e+07</td>\n",
       "    </tr>\n",
       "    <tr>\n",
       "      <th>75%</th>\n",
       "      <td>75.000000</td>\n",
       "      <td>NaN</td>\n",
       "      <td>NaN</td>\n",
       "      <td>4.000000e+07</td>\n",
       "      <td>5.234866e+07</td>\n",
       "      <td>9.764584e+07</td>\n",
       "    </tr>\n",
       "    <tr>\n",
       "      <th>max</th>\n",
       "      <td>100.000000</td>\n",
       "      <td>NaN</td>\n",
       "      <td>NaN</td>\n",
       "      <td>4.250000e+08</td>\n",
       "      <td>9.366622e+08</td>\n",
       "      <td>2.776345e+09</td>\n",
       "    </tr>\n",
       "  </tbody>\n",
       "</table>\n",
       "</div>"
      ],
      "text/plain": [
       "                 id  release_date      movie  production_budget  \\\n",
       "count   5782.000000          5782       5782       5.782000e+03   \n",
       "unique          NaN          2418       5698                NaN   \n",
       "top             NaN  Dec 31, 2014  Halloween                NaN   \n",
       "freq            NaN            24          3                NaN   \n",
       "mean      50.372363           NaN        NaN       3.158776e+07   \n",
       "std       28.821076           NaN        NaN       4.181208e+07   \n",
       "min        1.000000           NaN        NaN       1.100000e+03   \n",
       "25%       25.000000           NaN        NaN       5.000000e+06   \n",
       "50%       50.000000           NaN        NaN       1.700000e+07   \n",
       "75%       75.000000           NaN        NaN       4.000000e+07   \n",
       "max      100.000000           NaN        NaN       4.250000e+08   \n",
       "\n",
       "        domestic_gross  worldwide_gross  \n",
       "count     5.782000e+03     5.782000e+03  \n",
       "unique             NaN              NaN  \n",
       "top                NaN              NaN  \n",
       "freq               NaN              NaN  \n",
       "mean      4.187333e+07     9.148746e+07  \n",
       "std       6.824060e+07     1.747200e+08  \n",
       "min       0.000000e+00     0.000000e+00  \n",
       "25%       1.429534e+06     4.125415e+06  \n",
       "50%       1.722594e+07     2.798445e+07  \n",
       "75%       5.234866e+07     9.764584e+07  \n",
       "max       9.366622e+08     2.776345e+09  "
      ]
     },
     "execution_count": 39,
     "metadata": {},
     "output_type": "execute_result"
    }
   ],
   "source": [
    "df.describe( include='all')"
   ]
  },
  {
   "cell_type": "markdown",
   "id": "88459f60-df23-4be5-9cbe-670b2edd4c59",
   "metadata": {},
   "source": [
    "GET THE AVERAGE PROFITABILITY OF MAKING MOVIES"
   ]
  },
  {
   "cell_type": "code",
   "execution_count": 40,
   "id": "f4966929-3ea2-45dd-a55f-449e348ed384",
   "metadata": {},
   "outputs": [],
   "source": [
    "df['percentage_profit_margin'] = ((df['worldwide_gross'] - df['production_budget']) / df['production_budget']) * 100"
   ]
  },
  {
   "cell_type": "code",
   "execution_count": 41,
   "id": "1d3a92e7-7300-4fc2-b096-c4babfa8bec0",
   "metadata": {},
   "outputs": [
    {
     "data": {
      "text/html": [
       "<div>\n",
       "<style scoped>\n",
       "    .dataframe tbody tr th:only-of-type {\n",
       "        vertical-align: middle;\n",
       "    }\n",
       "\n",
       "    .dataframe tbody tr th {\n",
       "        vertical-align: top;\n",
       "    }\n",
       "\n",
       "    .dataframe thead th {\n",
       "        text-align: right;\n",
       "    }\n",
       "</style>\n",
       "<table border=\"1\" class=\"dataframe\">\n",
       "  <thead>\n",
       "    <tr style=\"text-align: right;\">\n",
       "      <th></th>\n",
       "      <th>id</th>\n",
       "      <th>release_date</th>\n",
       "      <th>movie</th>\n",
       "      <th>production_budget</th>\n",
       "      <th>domestic_gross</th>\n",
       "      <th>worldwide_gross</th>\n",
       "      <th>percentage_profit_margin</th>\n",
       "    </tr>\n",
       "  </thead>\n",
       "  <tbody>\n",
       "    <tr>\n",
       "      <th>count</th>\n",
       "      <td>5782.000000</td>\n",
       "      <td>5782</td>\n",
       "      <td>5782</td>\n",
       "      <td>5.782000e+03</td>\n",
       "      <td>5.782000e+03</td>\n",
       "      <td>5.782000e+03</td>\n",
       "      <td>5782.000000</td>\n",
       "    </tr>\n",
       "    <tr>\n",
       "      <th>unique</th>\n",
       "      <td>NaN</td>\n",
       "      <td>2418</td>\n",
       "      <td>5698</td>\n",
       "      <td>NaN</td>\n",
       "      <td>NaN</td>\n",
       "      <td>NaN</td>\n",
       "      <td>NaN</td>\n",
       "    </tr>\n",
       "    <tr>\n",
       "      <th>top</th>\n",
       "      <td>NaN</td>\n",
       "      <td>Dec 31, 2014</td>\n",
       "      <td>Halloween</td>\n",
       "      <td>NaN</td>\n",
       "      <td>NaN</td>\n",
       "      <td>NaN</td>\n",
       "      <td>NaN</td>\n",
       "    </tr>\n",
       "    <tr>\n",
       "      <th>freq</th>\n",
       "      <td>NaN</td>\n",
       "      <td>24</td>\n",
       "      <td>3</td>\n",
       "      <td>NaN</td>\n",
       "      <td>NaN</td>\n",
       "      <td>NaN</td>\n",
       "      <td>NaN</td>\n",
       "    </tr>\n",
       "    <tr>\n",
       "      <th>mean</th>\n",
       "      <td>50.372363</td>\n",
       "      <td>NaN</td>\n",
       "      <td>NaN</td>\n",
       "      <td>3.158776e+07</td>\n",
       "      <td>4.187333e+07</td>\n",
       "      <td>9.148746e+07</td>\n",
       "      <td>380.016137</td>\n",
       "    </tr>\n",
       "    <tr>\n",
       "      <th>std</th>\n",
       "      <td>28.821076</td>\n",
       "      <td>NaN</td>\n",
       "      <td>NaN</td>\n",
       "      <td>4.181208e+07</td>\n",
       "      <td>6.824060e+07</td>\n",
       "      <td>1.747200e+08</td>\n",
       "      <td>2953.028231</td>\n",
       "    </tr>\n",
       "    <tr>\n",
       "      <th>min</th>\n",
       "      <td>1.000000</td>\n",
       "      <td>NaN</td>\n",
       "      <td>NaN</td>\n",
       "      <td>1.100000e+03</td>\n",
       "      <td>0.000000e+00</td>\n",
       "      <td>0.000000e+00</td>\n",
       "      <td>-100.000000</td>\n",
       "    </tr>\n",
       "    <tr>\n",
       "      <th>25%</th>\n",
       "      <td>25.000000</td>\n",
       "      <td>NaN</td>\n",
       "      <td>NaN</td>\n",
       "      <td>5.000000e+06</td>\n",
       "      <td>1.429534e+06</td>\n",
       "      <td>4.125415e+06</td>\n",
       "      <td>-50.770440</td>\n",
       "    </tr>\n",
       "    <tr>\n",
       "      <th>50%</th>\n",
       "      <td>50.000000</td>\n",
       "      <td>NaN</td>\n",
       "      <td>NaN</td>\n",
       "      <td>1.700000e+07</td>\n",
       "      <td>1.722594e+07</td>\n",
       "      <td>2.798445e+07</td>\n",
       "      <td>70.830983</td>\n",
       "    </tr>\n",
       "    <tr>\n",
       "      <th>75%</th>\n",
       "      <td>75.000000</td>\n",
       "      <td>NaN</td>\n",
       "      <td>NaN</td>\n",
       "      <td>4.000000e+07</td>\n",
       "      <td>5.234866e+07</td>\n",
       "      <td>9.764584e+07</td>\n",
       "      <td>275.834608</td>\n",
       "    </tr>\n",
       "    <tr>\n",
       "      <th>max</th>\n",
       "      <td>100.000000</td>\n",
       "      <td>NaN</td>\n",
       "      <td>NaN</td>\n",
       "      <td>4.250000e+08</td>\n",
       "      <td>9.366622e+08</td>\n",
       "      <td>2.776345e+09</td>\n",
       "      <td>179900.000000</td>\n",
       "    </tr>\n",
       "  </tbody>\n",
       "</table>\n",
       "</div>"
      ],
      "text/plain": [
       "                 id  release_date      movie  production_budget  \\\n",
       "count   5782.000000          5782       5782       5.782000e+03   \n",
       "unique          NaN          2418       5698                NaN   \n",
       "top             NaN  Dec 31, 2014  Halloween                NaN   \n",
       "freq            NaN            24          3                NaN   \n",
       "mean      50.372363           NaN        NaN       3.158776e+07   \n",
       "std       28.821076           NaN        NaN       4.181208e+07   \n",
       "min        1.000000           NaN        NaN       1.100000e+03   \n",
       "25%       25.000000           NaN        NaN       5.000000e+06   \n",
       "50%       50.000000           NaN        NaN       1.700000e+07   \n",
       "75%       75.000000           NaN        NaN       4.000000e+07   \n",
       "max      100.000000           NaN        NaN       4.250000e+08   \n",
       "\n",
       "        domestic_gross  worldwide_gross  percentage_profit_margin  \n",
       "count     5.782000e+03     5.782000e+03               5782.000000  \n",
       "unique             NaN              NaN                       NaN  \n",
       "top                NaN              NaN                       NaN  \n",
       "freq               NaN              NaN                       NaN  \n",
       "mean      4.187333e+07     9.148746e+07                380.016137  \n",
       "std       6.824060e+07     1.747200e+08               2953.028231  \n",
       "min       0.000000e+00     0.000000e+00               -100.000000  \n",
       "25%       1.429534e+06     4.125415e+06                -50.770440  \n",
       "50%       1.722594e+07     2.798445e+07                 70.830983  \n",
       "75%       5.234866e+07     9.764584e+07                275.834608  \n",
       "max       9.366622e+08     2.776345e+09             179900.000000  "
      ]
     },
     "execution_count": 41,
     "metadata": {},
     "output_type": "execute_result"
    }
   ],
   "source": [
    "df.describe( include='all')"
   ]
  },
  {
   "cell_type": "markdown",
   "id": "f6c6ed6c-ceb6-4770-ab84-e3243306d072",
   "metadata": {},
   "source": [
    "CHECK FOR NAN AND INF VALUES IN PERCENTAGE_PROFIT_MARGIN COLUMN"
   ]
  },
  {
   "cell_type": "code",
   "execution_count": 42,
   "id": "dda9b0bc-261e-4e9e-9bd3-8dad23de8944",
   "metadata": {},
   "outputs": [],
   "source": [
    "nan_values = df['percentage_profit_margin'].isna()"
   ]
  },
  {
   "cell_type": "code",
   "execution_count": 43,
   "id": "d087e1f5-a81a-497c-b22a-27ef5d144182",
   "metadata": {},
   "outputs": [
    {
     "name": "stdout",
     "output_type": "stream",
     "text": [
      "Empty DataFrame\n",
      "Columns: [id, release_date, movie, production_budget, domestic_gross, worldwide_gross, percentage_profit_margin]\n",
      "Index: []\n"
     ]
    }
   ],
   "source": [
    "print(df[nan_values])"
   ]
  },
  {
   "cell_type": "code",
   "execution_count": 44,
   "id": "e972c114-96fd-4fac-bcd2-8900b18a9e41",
   "metadata": {},
   "outputs": [],
   "source": [
    "inf_values = df['percentage_profit_margin'] == np.inf"
   ]
  },
  {
   "cell_type": "code",
   "execution_count": 45,
   "id": "a2ed085b-6171-4199-88f1-21e6accd126b",
   "metadata": {},
   "outputs": [
    {
     "name": "stdout",
     "output_type": "stream",
     "text": [
      "Empty DataFrame\n",
      "Columns: [id, release_date, movie, production_budget, domestic_gross, worldwide_gross, percentage_profit_margin]\n",
      "Index: []\n"
     ]
    }
   ],
   "source": [
    "print(df[inf_values])"
   ]
  },
  {
   "cell_type": "code",
   "execution_count": 46,
   "id": "c8d4c87d-0747-4552-ab02-f1ca07400624",
   "metadata": {},
   "outputs": [],
   "source": [
    "average_profit = df['percentage_profit_margin'].mean()"
   ]
  },
  {
   "cell_type": "code",
   "execution_count": 47,
   "id": "d02efb0b-2c43-450f-89c7-bdb25102a7b4",
   "metadata": {},
   "outputs": [
    {
     "name": "stdout",
     "output_type": "stream",
     "text": [
      "The average profit margin for movies is 380.01613657949645 percent\n"
     ]
    }
   ],
   "source": [
    "print(\"The average profit margin for movies is\", average_profit ,\"percent\")"
   ]
  },
  {
   "cell_type": "markdown",
   "id": "1bb94c57-8298-45d1-8cf4-e0692a1d7254",
   "metadata": {},
   "source": [
    "SHOW COORELATION BETWEEN PRODUCTION COST AND PROFITABILITY"
   ]
  },
  {
   "cell_type": "code",
   "execution_count": 48,
   "id": "3bb9882c-baaa-4ee2-8254-480232d8e008",
   "metadata": {},
   "outputs": [
    {
     "data": {
      "text/plain": [
       "Index(['id', 'release_date', 'movie', 'production_budget', 'domestic_gross',\n",
       "       'worldwide_gross', 'percentage_profit_margin'],\n",
       "      dtype='object')"
      ]
     },
     "execution_count": 48,
     "metadata": {},
     "output_type": "execute_result"
    }
   ],
   "source": [
    "df.columns"
   ]
  },
  {
   "cell_type": "code",
   "execution_count": 49,
   "id": "62376562-3d20-4e3e-9483-1e1ed0ed2ea5",
   "metadata": {},
   "outputs": [
    {
     "data": {
      "image/png": "[encoded data removed]",
      "text/plain": [
       "<Figure size 800x600 with 1 Axes>"
      ]
     },
     "metadata": {},
     "output_type": "display_data"
    }
   ],
   "source": [
    "x = df['production_budget']\n",
    "y = df['percentage_profit_margin']\n",
    "\n",
    "plt.figure(figsize=(8, 6))\n",
    "plt.scatter(x, y, alpha=1)\n",
    "plt.xlabel('production_budget')\n",
    "plt.ylabel('percentage_profit_margin')\n",
    "plt.title('COORELATION BTWN PRODUCTION COSTS AND PROFITS')\n",
    "plt.show()"
   ]
  },
  {
   "cell_type": "markdown",
   "id": "3ebaf2c0-2788-4bc5-8573-40500a82391d",
   "metadata": {},
   "source": [
    "GET AVERAGE PRODUCTION BUDGET FOR TOP 100 MOST PROFITABLE MOVIES"
   ]
  },
  {
   "cell_type": "code",
   "execution_count": 50,
   "id": "ba85f044-b311-4183-8da9-6dd611b4c1b8",
   "metadata": {},
   "outputs": [],
   "source": [
    "top_100_Prof_mvs = df.sort_values(by='percentage_profit_margin', ascending=False).head(100)"
   ]
  },
  {
   "cell_type": "code",
   "execution_count": 51,
   "id": "c989aa07-a8ea-4c60-80b4-e272adec76d2",
   "metadata": {},
   "outputs": [
    {
     "data": {
      "text/html": [
       "<div>\n",
       "<style scoped>\n",
       "    .dataframe tbody tr th:only-of-type {\n",
       "        vertical-align: middle;\n",
       "    }\n",
       "\n",
       "    .dataframe tbody tr th {\n",
       "        vertical-align: top;\n",
       "    }\n",
       "\n",
       "    .dataframe thead th {\n",
       "        text-align: right;\n",
       "    }\n",
       "</style>\n",
       "<table border=\"1\" class=\"dataframe\">\n",
       "  <thead>\n",
       "    <tr style=\"text-align: right;\">\n",
       "      <th></th>\n",
       "      <th>id</th>\n",
       "      <th>release_date</th>\n",
       "      <th>movie</th>\n",
       "      <th>production_budget</th>\n",
       "      <th>domestic_gross</th>\n",
       "      <th>worldwide_gross</th>\n",
       "      <th>percentage_profit_margin</th>\n",
       "    </tr>\n",
       "  </thead>\n",
       "  <tbody>\n",
       "    <tr>\n",
       "      <th>5745</th>\n",
       "      <td>46</td>\n",
       "      <td>Jun 30, 1972</td>\n",
       "      <td>Deep Throat</td>\n",
       "      <td>25000</td>\n",
       "      <td>45000000</td>\n",
       "      <td>45000000</td>\n",
       "      <td>179900.000000</td>\n",
       "    </tr>\n",
       "    <tr>\n",
       "      <th>5613</th>\n",
       "      <td>14</td>\n",
       "      <td>Mar 21, 1980</td>\n",
       "      <td>Mad Max</td>\n",
       "      <td>200000</td>\n",
       "      <td>8750000</td>\n",
       "      <td>99750000</td>\n",
       "      <td>49775.000000</td>\n",
       "    </tr>\n",
       "    <tr>\n",
       "      <th>5492</th>\n",
       "      <td>93</td>\n",
       "      <td>Sep 25, 2009</td>\n",
       "      <td>Paranormal Activity</td>\n",
       "      <td>450000</td>\n",
       "      <td>107918810</td>\n",
       "      <td>194183034</td>\n",
       "      <td>43051.785333</td>\n",
       "    </tr>\n",
       "    <tr>\n",
       "      <th>5679</th>\n",
       "      <td>80</td>\n",
       "      <td>Jul 10, 2015</td>\n",
       "      <td>The Gallows</td>\n",
       "      <td>100000</td>\n",
       "      <td>22764410</td>\n",
       "      <td>41656474</td>\n",
       "      <td>41556.474000</td>\n",
       "    </tr>\n",
       "    <tr>\n",
       "      <th>5406</th>\n",
       "      <td>7</td>\n",
       "      <td>Jul 14, 1999</td>\n",
       "      <td>The Blair Witch Project</td>\n",
       "      <td>600000</td>\n",
       "      <td>140539099</td>\n",
       "      <td>248300000</td>\n",
       "      <td>41283.333333</td>\n",
       "    </tr>\n",
       "    <tr>\n",
       "      <th>...</th>\n",
       "      <td>...</td>\n",
       "      <td>...</td>\n",
       "      <td>...</td>\n",
       "      <td>...</td>\n",
       "      <td>...</td>\n",
       "      <td>...</td>\n",
       "      <td>...</td>\n",
       "    </tr>\n",
       "    <tr>\n",
       "      <th>3985</th>\n",
       "      <td>86</td>\n",
       "      <td>Dec 5, 2007</td>\n",
       "      <td>Juno</td>\n",
       "      <td>7000000</td>\n",
       "      <td>143495265</td>\n",
       "      <td>231450102</td>\n",
       "      <td>3206.430029</td>\n",
       "    </tr>\n",
       "    <tr>\n",
       "      <th>4252</th>\n",
       "      <td>53</td>\n",
       "      <td>Sep 13, 2013</td>\n",
       "      <td>Insidious Chapter 2</td>\n",
       "      <td>5000000</td>\n",
       "      <td>83586447</td>\n",
       "      <td>161921515</td>\n",
       "      <td>3138.430300</td>\n",
       "    </tr>\n",
       "    <tr>\n",
       "      <th>2991</th>\n",
       "      <td>92</td>\n",
       "      <td>Nov 16, 1990</td>\n",
       "      <td>Home Alone</td>\n",
       "      <td>15000000</td>\n",
       "      <td>285761243</td>\n",
       "      <td>476684675</td>\n",
       "      <td>3077.897833</td>\n",
       "    </tr>\n",
       "    <tr>\n",
       "      <th>3755</th>\n",
       "      <td>56</td>\n",
       "      <td>Dec 21, 2016</td>\n",
       "      <td>Dangal</td>\n",
       "      <td>9500000</td>\n",
       "      <td>12391761</td>\n",
       "      <td>294654618</td>\n",
       "      <td>3001.627558</td>\n",
       "    </tr>\n",
       "    <tr>\n",
       "      <th>3171</th>\n",
       "      <td>72</td>\n",
       "      <td>Mar 23, 1990</td>\n",
       "      <td>Pretty Woman</td>\n",
       "      <td>14000000</td>\n",
       "      <td>178406268</td>\n",
       "      <td>432645872</td>\n",
       "      <td>2990.327657</td>\n",
       "    </tr>\n",
       "  </tbody>\n",
       "</table>\n",
       "<p>100 rows × 7 columns</p>\n",
       "</div>"
      ],
      "text/plain": [
       "      id  release_date                    movie  production_budget  \\\n",
       "5745  46  Jun 30, 1972              Deep Throat              25000   \n",
       "5613  14  Mar 21, 1980                  Mad Max             200000   \n",
       "5492  93  Sep 25, 2009      Paranormal Activity             450000   \n",
       "5679  80  Jul 10, 2015              The Gallows             100000   \n",
       "5406   7  Jul 14, 1999  The Blair Witch Project             600000   \n",
       "...   ..           ...                      ...                ...   \n",
       "3985  86   Dec 5, 2007                     Juno            7000000   \n",
       "4252  53  Sep 13, 2013      Insidious Chapter 2            5000000   \n",
       "2991  92  Nov 16, 1990               Home Alone           15000000   \n",
       "3755  56  Dec 21, 2016                   Dangal            9500000   \n",
       "3171  72  Mar 23, 1990             Pretty Woman           14000000   \n",
       "\n",
       "      domestic_gross  worldwide_gross  percentage_profit_margin  \n",
       "5745        45000000         45000000             179900.000000  \n",
       "5613         8750000         99750000              49775.000000  \n",
       "5492       107918810        194183034              43051.785333  \n",
       "5679        22764410         41656474              41556.474000  \n",
       "5406       140539099        248300000              41283.333333  \n",
       "...              ...              ...                       ...  \n",
       "3985       143495265        231450102               3206.430029  \n",
       "4252        83586447        161921515               3138.430300  \n",
       "2991       285761243        476684675               3077.897833  \n",
       "3755        12391761        294654618               3001.627558  \n",
       "3171       178406268        432645872               2990.327657  \n",
       "\n",
       "[100 rows x 7 columns]"
      ]
     },
     "execution_count": 51,
     "metadata": {},
     "output_type": "execute_result"
    }
   ],
   "source": [
    "top_100_Prof_mvs "
   ]
  },
  {
   "cell_type": "code",
   "execution_count": 52,
   "id": "572049af-e84b-4846-9752-34564e14e34b",
   "metadata": {},
   "outputs": [],
   "source": [
    "average_prod_budget = top_100_Prof_mvs['production_budget'].mean()"
   ]
  },
  {
   "cell_type": "code",
   "execution_count": 53,
   "id": "8be39940-d100-472b-86b3-85d0fbf88f7e",
   "metadata": {},
   "outputs": [
    {
     "data": {
      "text/plain": [
       "2381713.47"
      ]
     },
     "execution_count": 53,
     "metadata": {},
     "output_type": "execute_result"
    }
   ],
   "source": [
    "average_prod_budget"
   ]
  },
  {
   "cell_type": "markdown",
   "id": "0ed59070-7837-4d79-9c78-568766736d1a",
   "metadata": {},
   "source": [
    "MERGE TMDB MOVIES AND TN MOVIES DATA SETS"
   ]
  },
  {
   "cell_type": "code",
   "execution_count": 54,
   "id": "efa19236-3f7f-4ae3-b729-f80510e6bf46",
   "metadata": {},
   "outputs": [],
   "source": [
    "df1 = pd.read_csv(r'C:/Users/PC/Music/DataScience_Phase_1_Project/dsc-phase-1-project-v2-4/zippedData/tmdb.movies.csv')\n",
    "df2 = pd.read_csv(r'C:/Users/PC/Music/DataScience_Phase_1_Project/dsc-phase-1-project-v2-4/zippedData/tn.movie_budgets.csv')"
   ]
  },
  {
   "cell_type": "code",
   "execution_count": 55,
   "id": "6600e7f1-8e41-45f6-af15-ab74d2feac86",
   "metadata": {},
   "outputs": [],
   "source": [
    "df2 = df2.rename(columns={'movie': 'title'})"
   ]
  },
  {
   "cell_type": "code",
   "execution_count": 56,
   "id": "1d524f7d-ade9-4bfc-a9ea-b50a0c0b887d",
   "metadata": {},
   "outputs": [],
   "source": [
    "merged_df = pd.merge(df1, df2, on=['title'])"
   ]
  },
  {
   "cell_type": "code",
   "execution_count": 57,
   "id": "726506ec-18f4-4883-a8a1-adaa92034fa3",
   "metadata": {},
   "outputs": [
    {
     "data": {
      "text/html": [
       "<div>\n",
       "<style scoped>\n",
       "    .dataframe tbody tr th:only-of-type {\n",
       "        vertical-align: middle;\n",
       "    }\n",
       "\n",
       "    .dataframe tbody tr th {\n",
       "        vertical-align: top;\n",
       "    }\n",
       "\n",
       "    .dataframe thead th {\n",
       "        text-align: right;\n",
       "    }\n",
       "</style>\n",
       "<table border=\"1\" class=\"dataframe\">\n",
       "  <thead>\n",
       "    <tr style=\"text-align: right;\">\n",
       "      <th></th>\n",
       "      <th>Unnamed: 0</th>\n",
       "      <th>genre_ids</th>\n",
       "      <th>id_x</th>\n",
       "      <th>original_language</th>\n",
       "      <th>original_title</th>\n",
       "      <th>popularity</th>\n",
       "      <th>release_date_x</th>\n",
       "      <th>title</th>\n",
       "      <th>vote_average</th>\n",
       "      <th>vote_count</th>\n",
       "      <th>id_y</th>\n",
       "      <th>release_date_y</th>\n",
       "      <th>production_budget</th>\n",
       "      <th>domestic_gross</th>\n",
       "      <th>worldwide_gross</th>\n",
       "    </tr>\n",
       "  </thead>\n",
       "  <tbody>\n",
       "    <tr>\n",
       "      <th>0</th>\n",
       "      <td>1</td>\n",
       "      <td>[14, 12, 16, 10751]</td>\n",
       "      <td>10191</td>\n",
       "      <td>en</td>\n",
       "      <td>How to Train Your Dragon</td>\n",
       "      <td>28.734</td>\n",
       "      <td>2010-03-26</td>\n",
       "      <td>How to Train Your Dragon</td>\n",
       "      <td>7.7</td>\n",
       "      <td>7610</td>\n",
       "      <td>30</td>\n",
       "      <td>Mar 26, 2010</td>\n",
       "      <td>$165,000,000</td>\n",
       "      <td>$217,581,232</td>\n",
       "      <td>$494,870,992</td>\n",
       "    </tr>\n",
       "    <tr>\n",
       "      <th>1</th>\n",
       "      <td>2</td>\n",
       "      <td>[12, 28, 878]</td>\n",
       "      <td>10138</td>\n",
       "      <td>en</td>\n",
       "      <td>Iron Man 2</td>\n",
       "      <td>28.515</td>\n",
       "      <td>2010-05-07</td>\n",
       "      <td>Iron Man 2</td>\n",
       "      <td>6.8</td>\n",
       "      <td>12368</td>\n",
       "      <td>15</td>\n",
       "      <td>May 7, 2010</td>\n",
       "      <td>$170,000,000</td>\n",
       "      <td>$312,433,331</td>\n",
       "      <td>$621,156,389</td>\n",
       "    </tr>\n",
       "    <tr>\n",
       "      <th>2</th>\n",
       "      <td>3</td>\n",
       "      <td>[16, 35, 10751]</td>\n",
       "      <td>862</td>\n",
       "      <td>en</td>\n",
       "      <td>Toy Story</td>\n",
       "      <td>28.005</td>\n",
       "      <td>1995-11-22</td>\n",
       "      <td>Toy Story</td>\n",
       "      <td>7.9</td>\n",
       "      <td>10174</td>\n",
       "      <td>37</td>\n",
       "      <td>Nov 22, 1995</td>\n",
       "      <td>$30,000,000</td>\n",
       "      <td>$191,796,233</td>\n",
       "      <td>$364,545,516</td>\n",
       "    </tr>\n",
       "    <tr>\n",
       "      <th>3</th>\n",
       "      <td>2473</td>\n",
       "      <td>[16, 35, 10751]</td>\n",
       "      <td>862</td>\n",
       "      <td>en</td>\n",
       "      <td>Toy Story</td>\n",
       "      <td>28.005</td>\n",
       "      <td>1995-11-22</td>\n",
       "      <td>Toy Story</td>\n",
       "      <td>7.9</td>\n",
       "      <td>10174</td>\n",
       "      <td>37</td>\n",
       "      <td>Nov 22, 1995</td>\n",
       "      <td>$30,000,000</td>\n",
       "      <td>$191,796,233</td>\n",
       "      <td>$364,545,516</td>\n",
       "    </tr>\n",
       "    <tr>\n",
       "      <th>4</th>\n",
       "      <td>4</td>\n",
       "      <td>[28, 878, 12]</td>\n",
       "      <td>27205</td>\n",
       "      <td>en</td>\n",
       "      <td>Inception</td>\n",
       "      <td>27.920</td>\n",
       "      <td>2010-07-16</td>\n",
       "      <td>Inception</td>\n",
       "      <td>8.3</td>\n",
       "      <td>22186</td>\n",
       "      <td>38</td>\n",
       "      <td>Jul 16, 2010</td>\n",
       "      <td>$160,000,000</td>\n",
       "      <td>$292,576,195</td>\n",
       "      <td>$835,524,642</td>\n",
       "    </tr>\n",
       "  </tbody>\n",
       "</table>\n",
       "</div>"
      ],
      "text/plain": [
       "   Unnamed: 0            genre_ids   id_x original_language  \\\n",
       "0           1  [14, 12, 16, 10751]  10191                en   \n",
       "1           2        [12, 28, 878]  10138                en   \n",
       "2           3      [16, 35, 10751]    862                en   \n",
       "3        2473      [16, 35, 10751]    862                en   \n",
       "4           4        [28, 878, 12]  27205                en   \n",
       "\n",
       "             original_title  popularity release_date_x  \\\n",
       "0  How to Train Your Dragon      28.734     2010-03-26   \n",
       "1                Iron Man 2      28.515     2010-05-07   \n",
       "2                 Toy Story      28.005     1995-11-22   \n",
       "3                 Toy Story      28.005     1995-11-22   \n",
       "4                 Inception      27.920     2010-07-16   \n",
       "\n",
       "                      title  vote_average  vote_count  id_y release_date_y  \\\n",
       "0  How to Train Your Dragon           7.7        7610    30   Mar 26, 2010   \n",
       "1                Iron Man 2           6.8       12368    15    May 7, 2010   \n",
       "2                 Toy Story           7.9       10174    37   Nov 22, 1995   \n",
       "3                 Toy Story           7.9       10174    37   Nov 22, 1995   \n",
       "4                 Inception           8.3       22186    38   Jul 16, 2010   \n",
       "\n",
       "  production_budget domestic_gross worldwide_gross  \n",
       "0      $165,000,000   $217,581,232    $494,870,992  \n",
       "1      $170,000,000   $312,433,331    $621,156,389  \n",
       "2       $30,000,000   $191,796,233    $364,545,516  \n",
       "3       $30,000,000   $191,796,233    $364,545,516  \n",
       "4      $160,000,000   $292,576,195    $835,524,642  "
      ]
     },
     "execution_count": 57,
     "metadata": {},
     "output_type": "execute_result"
    }
   ],
   "source": [
    "merged_df.head()"
   ]
  },
  {
   "cell_type": "markdown",
   "id": "0b9c4a0c-f197-449f-8c70-17406e34fca7",
   "metadata": {},
   "source": [
    "GET INFORMATION ON  DATA TYPES OF EACH COLUMN IN THE DATASET"
   ]
  },
  {
   "cell_type": "code",
   "execution_count": 58,
   "id": "939f5735-7e55-49df-adae-cd512ed8f1d2",
   "metadata": {},
   "outputs": [
    {
     "name": "stdout",
     "output_type": "stream",
     "text": [
      "<class 'pandas.core.frame.DataFrame'>\n",
      "RangeIndex: 2385 entries, 0 to 2384\n",
      "Data columns (total 15 columns):\n",
      " #   Column             Non-Null Count  Dtype  \n",
      "---  ------             --------------  -----  \n",
      " 0   Unnamed: 0         2385 non-null   int64  \n",
      " 1   genre_ids          2385 non-null   object \n",
      " 2   id_x               2385 non-null   int64  \n",
      " 3   original_language  2385 non-null   object \n",
      " 4   original_title     2385 non-null   object \n",
      " 5   popularity         2385 non-null   float64\n",
      " 6   release_date_x     2385 non-null   object \n",
      " 7   title              2385 non-null   object \n",
      " 8   vote_average       2385 non-null   float64\n",
      " 9   vote_count         2385 non-null   int64  \n",
      " 10  id_y               2385 non-null   int64  \n",
      " 11  release_date_y     2385 non-null   object \n",
      " 12  production_budget  2385 non-null   object \n",
      " 13  domestic_gross     2385 non-null   object \n",
      " 14  worldwide_gross    2385 non-null   object \n",
      "dtypes: float64(2), int64(4), object(9)\n",
      "memory usage: 279.6+ KB\n"
     ]
    }
   ],
   "source": [
    "merged_df.info()"
   ]
  },
  {
   "cell_type": "markdown",
   "id": "84d71007-3397-4495-9483-90f40a673810",
   "metadata": {},
   "source": [
    "CONVERT THE RELEVANT OBJECTS DATA TYPES TO INTEGERS"
   ]
  },
  {
   "cell_type": "code",
   "execution_count": 59,
   "id": "200e542d-b6ff-4f71-83eb-3ffe05037bbc",
   "metadata": {},
   "outputs": [],
   "source": [
    "df = pd.DataFrame(merged_df)\n",
    "df['production_budget'] =  pd.to_numeric(df['production_budget'].str.replace(',', '').str.replace('$', ''))\n",
    "df['domestic_gross'] = pd.to_numeric(df['domestic_gross'].str.replace(',', '').str.replace('$', ''))\n",
    "df['worldwide_gross'] = pd.to_numeric(df['worldwide_gross'].str.replace(',', '').str.replace('$', ''))"
   ]
  },
  {
   "cell_type": "code",
   "execution_count": 60,
   "id": "a8fa8aeb-0ebf-4caf-871c-21261da10d36",
   "metadata": {},
   "outputs": [
    {
     "name": "stdout",
     "output_type": "stream",
     "text": [
      "<class 'pandas.core.frame.DataFrame'>\n",
      "RangeIndex: 2385 entries, 0 to 2384\n",
      "Data columns (total 15 columns):\n",
      " #   Column             Non-Null Count  Dtype  \n",
      "---  ------             --------------  -----  \n",
      " 0   Unnamed: 0         2385 non-null   int64  \n",
      " 1   genre_ids          2385 non-null   object \n",
      " 2   id_x               2385 non-null   int64  \n",
      " 3   original_language  2385 non-null   object \n",
      " 4   original_title     2385 non-null   object \n",
      " 5   popularity         2385 non-null   float64\n",
      " 6   release_date_x     2385 non-null   object \n",
      " 7   title              2385 non-null   object \n",
      " 8   vote_average       2385 non-null   float64\n",
      " 9   vote_count         2385 non-null   int64  \n",
      " 10  id_y               2385 non-null   int64  \n",
      " 11  release_date_y     2385 non-null   object \n",
      " 12  production_budget  2385 non-null   int64  \n",
      " 13  domestic_gross     2385 non-null   int64  \n",
      " 14  worldwide_gross    2385 non-null   int64  \n",
      "dtypes: float64(2), int64(7), object(6)\n",
      "memory usage: 279.6+ KB\n"
     ]
    }
   ],
   "source": [
    "df.info()"
   ]
  },
  {
   "cell_type": "markdown",
   "id": "e644f27d-2f6c-48d5-a991-80056afae71d",
   "metadata": {},
   "source": [
    "GET INFORMATION ON NUMBER OF ROWS AND COLUMNS IN THE DATASET"
   ]
  },
  {
   "cell_type": "code",
   "execution_count": 61,
   "id": "80e48142-8534-4677-8763-f21415903125",
   "metadata": {},
   "outputs": [
    {
     "data": {
      "text/plain": [
       "(2385, 15)"
      ]
     },
     "execution_count": 61,
     "metadata": {},
     "output_type": "execute_result"
    }
   ],
   "source": [
    "df = pd.DataFrame(df) \n",
    "df.shape"
   ]
  },
  {
   "cell_type": "markdown",
   "id": "c68788a8-5fe1-4178-a918-67e812dc7123",
   "metadata": {},
   "source": [
    "CHECK FOR MISSING VALUES IN THE DATA SET"
   ]
  },
  {
   "cell_type": "code",
   "execution_count": 62,
   "id": "a2d4febc-e188-4941-bd74-dcc6d77f0b96",
   "metadata": {},
   "outputs": [
    {
     "data": {
      "text/plain": [
       "Unnamed: 0           0\n",
       "genre_ids            0\n",
       "id_x                 0\n",
       "original_language    0\n",
       "original_title       0\n",
       "popularity           0\n",
       "release_date_x       0\n",
       "title                0\n",
       "vote_average         0\n",
       "vote_count           0\n",
       "id_y                 0\n",
       "release_date_y       0\n",
       "production_budget    0\n",
       "domestic_gross       0\n",
       "worldwide_gross      0\n",
       "dtype: int64"
      ]
     },
     "execution_count": 62,
     "metadata": {},
     "output_type": "execute_result"
    }
   ],
   "source": [
    "df.isnull().sum()"
   ]
  },
  {
   "cell_type": "markdown",
   "id": "bef9d412-b39c-48ef-908e-ac6f99b1ad3a",
   "metadata": {},
   "source": [
    "CHECK FOR DUPLICATE VALUES IN THE DATASET"
   ]
  },
  {
   "cell_type": "code",
   "execution_count": 63,
   "id": "75b5ed6c-7da3-421e-ac2a-742db6b23beb",
   "metadata": {},
   "outputs": [],
   "source": [
    "duplicate_data = df.duplicated().any()"
   ]
  },
  {
   "cell_type": "code",
   "execution_count": 64,
   "id": "735b0b6c-8077-448f-9765-af1ac521fa8b",
   "metadata": {},
   "outputs": [
    {
     "name": "stdout",
     "output_type": "stream",
     "text": [
      "False\n"
     ]
    }
   ],
   "source": [
    "print(duplicate_data)"
   ]
  },
  {
   "cell_type": "markdown",
   "id": "ac872567-64c8-4201-9877-2ab8c9a0d414",
   "metadata": {},
   "source": [
    "GET GENERAL STATISCTICS FOR BOTH NUMERICAL AND CATEGORICAL COLUMNS OF THE DATASET"
   ]
  },
  {
   "cell_type": "code",
   "execution_count": 65,
   "id": "ea8ecd85-d290-47e4-89ed-54f5727699dc",
   "metadata": {},
   "outputs": [
    {
     "data": {
      "text/html": [
       "<div>\n",
       "<style scoped>\n",
       "    .dataframe tbody tr th:only-of-type {\n",
       "        vertical-align: middle;\n",
       "    }\n",
       "\n",
       "    .dataframe tbody tr th {\n",
       "        vertical-align: top;\n",
       "    }\n",
       "\n",
       "    .dataframe thead th {\n",
       "        text-align: right;\n",
       "    }\n",
       "</style>\n",
       "<table border=\"1\" class=\"dataframe\">\n",
       "  <thead>\n",
       "    <tr style=\"text-align: right;\">\n",
       "      <th></th>\n",
       "      <th>Unnamed: 0</th>\n",
       "      <th>genre_ids</th>\n",
       "      <th>id_x</th>\n",
       "      <th>original_language</th>\n",
       "      <th>original_title</th>\n",
       "      <th>popularity</th>\n",
       "      <th>release_date_x</th>\n",
       "      <th>title</th>\n",
       "      <th>vote_average</th>\n",
       "      <th>vote_count</th>\n",
       "      <th>id_y</th>\n",
       "      <th>release_date_y</th>\n",
       "      <th>production_budget</th>\n",
       "      <th>domestic_gross</th>\n",
       "      <th>worldwide_gross</th>\n",
       "    </tr>\n",
       "  </thead>\n",
       "  <tbody>\n",
       "    <tr>\n",
       "      <th>count</th>\n",
       "      <td>2385.000000</td>\n",
       "      <td>2385</td>\n",
       "      <td>2385.000000</td>\n",
       "      <td>2385</td>\n",
       "      <td>2385</td>\n",
       "      <td>2385.000000</td>\n",
       "      <td>2385</td>\n",
       "      <td>2385</td>\n",
       "      <td>2385.000000</td>\n",
       "      <td>2385.000000</td>\n",
       "      <td>2385.000000</td>\n",
       "      <td>2385</td>\n",
       "      <td>2.385000e+03</td>\n",
       "      <td>2.385000e+03</td>\n",
       "      <td>2.385000e+03</td>\n",
       "    </tr>\n",
       "    <tr>\n",
       "      <th>unique</th>\n",
       "      <td>NaN</td>\n",
       "      <td>674</td>\n",
       "      <td>NaN</td>\n",
       "      <td>32</td>\n",
       "      <td>1968</td>\n",
       "      <td>NaN</td>\n",
       "      <td>1046</td>\n",
       "      <td>1924</td>\n",
       "      <td>NaN</td>\n",
       "      <td>NaN</td>\n",
       "      <td>NaN</td>\n",
       "      <td>887</td>\n",
       "      <td>NaN</td>\n",
       "      <td>NaN</td>\n",
       "      <td>NaN</td>\n",
       "    </tr>\n",
       "    <tr>\n",
       "      <th>top</th>\n",
       "      <td>NaN</td>\n",
       "      <td>[18]</td>\n",
       "      <td>NaN</td>\n",
       "      <td>en</td>\n",
       "      <td>Home</td>\n",
       "      <td>NaN</td>\n",
       "      <td>2015-10-16</td>\n",
       "      <td>Home</td>\n",
       "      <td>NaN</td>\n",
       "      <td>NaN</td>\n",
       "      <td>NaN</td>\n",
       "      <td>Nov 20, 2015</td>\n",
       "      <td>NaN</td>\n",
       "      <td>NaN</td>\n",
       "      <td>NaN</td>\n",
       "    </tr>\n",
       "    <tr>\n",
       "      <th>freq</th>\n",
       "      <td>NaN</td>\n",
       "      <td>225</td>\n",
       "      <td>NaN</td>\n",
       "      <td>2255</td>\n",
       "      <td>18</td>\n",
       "      <td>NaN</td>\n",
       "      <td>15</td>\n",
       "      <td>21</td>\n",
       "      <td>NaN</td>\n",
       "      <td>NaN</td>\n",
       "      <td>NaN</td>\n",
       "      <td>17</td>\n",
       "      <td>NaN</td>\n",
       "      <td>NaN</td>\n",
       "      <td>NaN</td>\n",
       "    </tr>\n",
       "    <tr>\n",
       "      <th>mean</th>\n",
       "      <td>11491.000000</td>\n",
       "      <td>NaN</td>\n",
       "      <td>212160.239413</td>\n",
       "      <td>NaN</td>\n",
       "      <td>NaN</td>\n",
       "      <td>10.423104</td>\n",
       "      <td>NaN</td>\n",
       "      <td>NaN</td>\n",
       "      <td>6.202474</td>\n",
       "      <td>1662.224738</td>\n",
       "      <td>50.990776</td>\n",
       "      <td>NaN</td>\n",
       "      <td>3.772410e+07</td>\n",
       "      <td>4.948916e+07</td>\n",
       "      <td>1.199040e+08</td>\n",
       "    </tr>\n",
       "    <tr>\n",
       "      <th>std</th>\n",
       "      <td>7549.622509</td>\n",
       "      <td>NaN</td>\n",
       "      <td>144783.690432</td>\n",
       "      <td>NaN</td>\n",
       "      <td>NaN</td>\n",
       "      <td>8.257018</td>\n",
       "      <td>NaN</td>\n",
       "      <td>NaN</td>\n",
       "      <td>1.184930</td>\n",
       "      <td>2681.183078</td>\n",
       "      <td>28.500793</td>\n",
       "      <td>NaN</td>\n",
       "      <td>5.125635e+07</td>\n",
       "      <td>8.275210e+07</td>\n",
       "      <td>2.213221e+08</td>\n",
       "    </tr>\n",
       "    <tr>\n",
       "      <th>min</th>\n",
       "      <td>1.000000</td>\n",
       "      <td>NaN</td>\n",
       "      <td>62.000000</td>\n",
       "      <td>NaN</td>\n",
       "      <td>NaN</td>\n",
       "      <td>0.600000</td>\n",
       "      <td>NaN</td>\n",
       "      <td>NaN</td>\n",
       "      <td>0.000000</td>\n",
       "      <td>1.000000</td>\n",
       "      <td>1.000000</td>\n",
       "      <td>NaN</td>\n",
       "      <td>9.000000e+03</td>\n",
       "      <td>0.000000e+00</td>\n",
       "      <td>0.000000e+00</td>\n",
       "    </tr>\n",
       "    <tr>\n",
       "      <th>25%</th>\n",
       "      <td>5215.000000</td>\n",
       "      <td>NaN</td>\n",
       "      <td>72431.000000</td>\n",
       "      <td>NaN</td>\n",
       "      <td>NaN</td>\n",
       "      <td>4.749000</td>\n",
       "      <td>NaN</td>\n",
       "      <td>NaN</td>\n",
       "      <td>5.600000</td>\n",
       "      <td>48.000000</td>\n",
       "      <td>27.000000</td>\n",
       "      <td>NaN</td>\n",
       "      <td>5.000000e+06</td>\n",
       "      <td>8.818240e+05</td>\n",
       "      <td>3.187302e+06</td>\n",
       "    </tr>\n",
       "    <tr>\n",
       "      <th>50%</th>\n",
       "      <td>11177.000000</td>\n",
       "      <td>NaN</td>\n",
       "      <td>209702.000000</td>\n",
       "      <td>NaN</td>\n",
       "      <td>NaN</td>\n",
       "      <td>9.329000</td>\n",
       "      <td>NaN</td>\n",
       "      <td>NaN</td>\n",
       "      <td>6.300000</td>\n",
       "      <td>563.000000</td>\n",
       "      <td>51.000000</td>\n",
       "      <td>NaN</td>\n",
       "      <td>1.900000e+07</td>\n",
       "      <td>2.015730e+07</td>\n",
       "      <td>3.704853e+07</td>\n",
       "    </tr>\n",
       "    <tr>\n",
       "      <th>75%</th>\n",
       "      <td>17551.000000</td>\n",
       "      <td>NaN</td>\n",
       "      <td>332979.000000</td>\n",
       "      <td>NaN</td>\n",
       "      <td>NaN</td>\n",
       "      <td>14.239000</td>\n",
       "      <td>NaN</td>\n",
       "      <td>NaN</td>\n",
       "      <td>6.900000</td>\n",
       "      <td>2047.000000</td>\n",
       "      <td>76.000000</td>\n",
       "      <td>NaN</td>\n",
       "      <td>4.500000e+07</td>\n",
       "      <td>5.789180e+07</td>\n",
       "      <td>1.233688e+08</td>\n",
       "    </tr>\n",
       "    <tr>\n",
       "      <th>max</th>\n",
       "      <td>26508.000000</td>\n",
       "      <td>NaN</td>\n",
       "      <td>587627.000000</td>\n",
       "      <td>NaN</td>\n",
       "      <td>NaN</td>\n",
       "      <td>80.773000</td>\n",
       "      <td>NaN</td>\n",
       "      <td>NaN</td>\n",
       "      <td>10.000000</td>\n",
       "      <td>22186.000000</td>\n",
       "      <td>100.000000</td>\n",
       "      <td>NaN</td>\n",
       "      <td>4.250000e+08</td>\n",
       "      <td>7.605076e+08</td>\n",
       "      <td>2.776345e+09</td>\n",
       "    </tr>\n",
       "  </tbody>\n",
       "</table>\n",
       "</div>"
      ],
      "text/plain": [
       "          Unnamed: 0 genre_ids           id_x original_language  \\\n",
       "count    2385.000000      2385    2385.000000              2385   \n",
       "unique           NaN       674            NaN                32   \n",
       "top              NaN      [18]            NaN                en   \n",
       "freq             NaN       225            NaN              2255   \n",
       "mean    11491.000000       NaN  212160.239413               NaN   \n",
       "std      7549.622509       NaN  144783.690432               NaN   \n",
       "min         1.000000       NaN      62.000000               NaN   \n",
       "25%      5215.000000       NaN   72431.000000               NaN   \n",
       "50%     11177.000000       NaN  209702.000000               NaN   \n",
       "75%     17551.000000       NaN  332979.000000               NaN   \n",
       "max     26508.000000       NaN  587627.000000               NaN   \n",
       "\n",
       "       original_title   popularity release_date_x title  vote_average  \\\n",
       "count            2385  2385.000000           2385  2385   2385.000000   \n",
       "unique           1968          NaN           1046  1924           NaN   \n",
       "top              Home          NaN     2015-10-16  Home           NaN   \n",
       "freq               18          NaN             15    21           NaN   \n",
       "mean              NaN    10.423104            NaN   NaN      6.202474   \n",
       "std               NaN     8.257018            NaN   NaN      1.184930   \n",
       "min               NaN     0.600000            NaN   NaN      0.000000   \n",
       "25%               NaN     4.749000            NaN   NaN      5.600000   \n",
       "50%               NaN     9.329000            NaN   NaN      6.300000   \n",
       "75%               NaN    14.239000            NaN   NaN      6.900000   \n",
       "max               NaN    80.773000            NaN   NaN     10.000000   \n",
       "\n",
       "          vote_count         id_y release_date_y  production_budget  \\\n",
       "count    2385.000000  2385.000000           2385       2.385000e+03   \n",
       "unique           NaN          NaN            887                NaN   \n",
       "top              NaN          NaN   Nov 20, 2015                NaN   \n",
       "freq             NaN          NaN             17                NaN   \n",
       "mean     1662.224738    50.990776            NaN       3.772410e+07   \n",
       "std      2681.183078    28.500793            NaN       5.125635e+07   \n",
       "min         1.000000     1.000000            NaN       9.000000e+03   \n",
       "25%        48.000000    27.000000            NaN       5.000000e+06   \n",
       "50%       563.000000    51.000000            NaN       1.900000e+07   \n",
       "75%      2047.000000    76.000000            NaN       4.500000e+07   \n",
       "max     22186.000000   100.000000            NaN       4.250000e+08   \n",
       "\n",
       "        domestic_gross  worldwide_gross  \n",
       "count     2.385000e+03     2.385000e+03  \n",
       "unique             NaN              NaN  \n",
       "top                NaN              NaN  \n",
       "freq               NaN              NaN  \n",
       "mean      4.948916e+07     1.199040e+08  \n",
       "std       8.275210e+07     2.213221e+08  \n",
       "min       0.000000e+00     0.000000e+00  \n",
       "25%       8.818240e+05     3.187302e+06  \n",
       "50%       2.015730e+07     3.704853e+07  \n",
       "75%       5.789180e+07     1.233688e+08  \n",
       "max       7.605076e+08     2.776345e+09  "
      ]
     },
     "execution_count": 65,
     "metadata": {},
     "output_type": "execute_result"
    }
   ],
   "source": [
    "df.describe( include='all')"
   ]
  },
  {
   "cell_type": "markdown",
   "id": "4c60a747-cb7b-4f58-9896-9b20887f6544",
   "metadata": {},
   "source": [
    "DISPLAY TO 1000 MOVIES RANKED  BASED ON POPULARITY AND CATEGORIZED BY LANGUAGE"
   ]
  },
  {
   "cell_type": "code",
   "execution_count": 66,
   "id": "49868b94-31b7-4768-8671-037758f67608",
   "metadata": {},
   "outputs": [
    {
     "data": {
      "text/plain": [
       "Index(['Unnamed: 0', 'genre_ids', 'id_x', 'original_language',\n",
       "       'original_title', 'popularity', 'release_date_x', 'title',\n",
       "       'vote_average', 'vote_count', 'id_y', 'release_date_y',\n",
       "       'production_budget', 'domestic_gross', 'worldwide_gross'],\n",
       "      dtype='object')"
      ]
     },
     "execution_count": 66,
     "metadata": {},
     "output_type": "execute_result"
    }
   ],
   "source": [
    "df.columns"
   ]
  },
  {
   "cell_type": "code",
   "execution_count": 67,
   "id": "726721b9-d88d-4592-bef7-c3ce48ab1500",
   "metadata": {},
   "outputs": [],
   "source": [
    "top_1000_Pop_mvs = df.sort_values(by='popularity', ascending=False).head(1000)"
   ]
  },
  {
   "cell_type": "code",
   "execution_count": 68,
   "id": "84853f7c-39f0-4855-89d6-d13ab06b1d73",
   "metadata": {},
   "outputs": [
    {
     "data": {
      "text/html": [
       "<div>\n",
       "<style scoped>\n",
       "    .dataframe tbody tr th:only-of-type {\n",
       "        vertical-align: middle;\n",
       "    }\n",
       "\n",
       "    .dataframe tbody tr th {\n",
       "        vertical-align: top;\n",
       "    }\n",
       "\n",
       "    .dataframe thead th {\n",
       "        text-align: right;\n",
       "    }\n",
       "</style>\n",
       "<table border=\"1\" class=\"dataframe\">\n",
       "  <thead>\n",
       "    <tr style=\"text-align: right;\">\n",
       "      <th></th>\n",
       "      <th>Unnamed: 0</th>\n",
       "      <th>genre_ids</th>\n",
       "      <th>id_x</th>\n",
       "      <th>original_language</th>\n",
       "      <th>original_title</th>\n",
       "      <th>popularity</th>\n",
       "      <th>release_date_x</th>\n",
       "      <th>title</th>\n",
       "      <th>vote_average</th>\n",
       "      <th>vote_count</th>\n",
       "      <th>id_y</th>\n",
       "      <th>release_date_y</th>\n",
       "      <th>production_budget</th>\n",
       "      <th>domestic_gross</th>\n",
       "      <th>worldwide_gross</th>\n",
       "    </tr>\n",
       "  </thead>\n",
       "  <tbody>\n",
       "    <tr>\n",
       "      <th>2251</th>\n",
       "      <td>23811</td>\n",
       "      <td>[12, 28, 14]</td>\n",
       "      <td>299536</td>\n",
       "      <td>en</td>\n",
       "      <td>Avengers: Infinity War</td>\n",
       "      <td>80.773</td>\n",
       "      <td>2018-04-27</td>\n",
       "      <td>Avengers: Infinity War</td>\n",
       "      <td>8.3</td>\n",
       "      <td>13948</td>\n",
       "      <td>7</td>\n",
       "      <td>Apr 27, 2018</td>\n",
       "      <td>300000000</td>\n",
       "      <td>678815482</td>\n",
       "      <td>2048134200</td>\n",
       "    </tr>\n",
       "    <tr>\n",
       "      <th>1227</th>\n",
       "      <td>11019</td>\n",
       "      <td>[28, 53]</td>\n",
       "      <td>245891</td>\n",
       "      <td>en</td>\n",
       "      <td>John Wick</td>\n",
       "      <td>78.123</td>\n",
       "      <td>2014-10-24</td>\n",
       "      <td>John Wick</td>\n",
       "      <td>7.2</td>\n",
       "      <td>10081</td>\n",
       "      <td>6</td>\n",
       "      <td>Oct 24, 2014</td>\n",
       "      <td>30000000</td>\n",
       "      <td>43037835</td>\n",
       "      <td>76235001</td>\n",
       "    </tr>\n",
       "    <tr>\n",
       "      <th>1228</th>\n",
       "      <td>11020</td>\n",
       "      <td>[28, 12, 14]</td>\n",
       "      <td>122917</td>\n",
       "      <td>en</td>\n",
       "      <td>The Hobbit: The Battle of the Five Armies</td>\n",
       "      <td>53.783</td>\n",
       "      <td>2014-12-17</td>\n",
       "      <td>The Hobbit: The Battle of the Five Armies</td>\n",
       "      <td>7.3</td>\n",
       "      <td>8392</td>\n",
       "      <td>22</td>\n",
       "      <td>Dec 17, 2014</td>\n",
       "      <td>250000000</td>\n",
       "      <td>255119788</td>\n",
       "      <td>945577621</td>\n",
       "    </tr>\n",
       "    <tr>\n",
       "      <th>683</th>\n",
       "      <td>5179</td>\n",
       "      <td>[878, 28, 12]</td>\n",
       "      <td>24428</td>\n",
       "      <td>en</td>\n",
       "      <td>The Avengers</td>\n",
       "      <td>50.289</td>\n",
       "      <td>2012-05-04</td>\n",
       "      <td>The Avengers</td>\n",
       "      <td>7.6</td>\n",
       "      <td>19673</td>\n",
       "      <td>27</td>\n",
       "      <td>May 4, 2012</td>\n",
       "      <td>225000000</td>\n",
       "      <td>623279547</td>\n",
       "      <td>1517935897</td>\n",
       "    </tr>\n",
       "    <tr>\n",
       "      <th>684</th>\n",
       "      <td>5179</td>\n",
       "      <td>[878, 28, 12]</td>\n",
       "      <td>24428</td>\n",
       "      <td>en</td>\n",
       "      <td>The Avengers</td>\n",
       "      <td>50.289</td>\n",
       "      <td>2012-05-04</td>\n",
       "      <td>The Avengers</td>\n",
       "      <td>7.6</td>\n",
       "      <td>19673</td>\n",
       "      <td>35</td>\n",
       "      <td>Aug 14, 1998</td>\n",
       "      <td>60000000</td>\n",
       "      <td>23385416</td>\n",
       "      <td>48585416</td>\n",
       "    </tr>\n",
       "    <tr>\n",
       "      <th>...</th>\n",
       "      <td>...</td>\n",
       "      <td>...</td>\n",
       "      <td>...</td>\n",
       "      <td>...</td>\n",
       "      <td>...</td>\n",
       "      <td>...</td>\n",
       "      <td>...</td>\n",
       "      <td>...</td>\n",
       "      <td>...</td>\n",
       "      <td>...</td>\n",
       "      <td>...</td>\n",
       "      <td>...</td>\n",
       "      <td>...</td>\n",
       "      <td>...</td>\n",
       "      <td>...</td>\n",
       "    </tr>\n",
       "    <tr>\n",
       "      <th>438</th>\n",
       "      <td>17547</td>\n",
       "      <td>[12, 14]</td>\n",
       "      <td>11976</td>\n",
       "      <td>en</td>\n",
       "      <td>Legend</td>\n",
       "      <td>10.542</td>\n",
       "      <td>1986-04-18</td>\n",
       "      <td>Legend</td>\n",
       "      <td>6.2</td>\n",
       "      <td>509</td>\n",
       "      <td>63</td>\n",
       "      <td>Apr 18, 1986</td>\n",
       "      <td>25000000</td>\n",
       "      <td>15502112</td>\n",
       "      <td>23506237</td>\n",
       "    </tr>\n",
       "    <tr>\n",
       "      <th>1948</th>\n",
       "      <td>17548</td>\n",
       "      <td>[18, 53]</td>\n",
       "      <td>329981</td>\n",
       "      <td>en</td>\n",
       "      <td>Shut In</td>\n",
       "      <td>10.535</td>\n",
       "      <td>2016-11-11</td>\n",
       "      <td>Shut In</td>\n",
       "      <td>5.2</td>\n",
       "      <td>374</td>\n",
       "      <td>50</td>\n",
       "      <td>Nov 11, 2016</td>\n",
       "      <td>10000000</td>\n",
       "      <td>6900335</td>\n",
       "      <td>11360665</td>\n",
       "    </tr>\n",
       "    <tr>\n",
       "      <th>927</th>\n",
       "      <td>24138</td>\n",
       "      <td>[10751, 80, 18]</td>\n",
       "      <td>495193</td>\n",
       "      <td>en</td>\n",
       "      <td>Benji</td>\n",
       "      <td>10.503</td>\n",
       "      <td>2018-03-02</td>\n",
       "      <td>Benji</td>\n",
       "      <td>7.0</td>\n",
       "      <td>138</td>\n",
       "      <td>30</td>\n",
       "      <td>Nov 15, 1974</td>\n",
       "      <td>500000</td>\n",
       "      <td>31559560</td>\n",
       "      <td>31559560</td>\n",
       "    </tr>\n",
       "    <tr>\n",
       "      <th>1338</th>\n",
       "      <td>11163</td>\n",
       "      <td>[16, 35, 10751, 12]</td>\n",
       "      <td>227783</td>\n",
       "      <td>en</td>\n",
       "      <td>The Nut Job</td>\n",
       "      <td>10.501</td>\n",
       "      <td>2014-01-17</td>\n",
       "      <td>The Nut Job</td>\n",
       "      <td>5.6</td>\n",
       "      <td>529</td>\n",
       "      <td>72</td>\n",
       "      <td>Jan 17, 2014</td>\n",
       "      <td>30000000</td>\n",
       "      <td>64251538</td>\n",
       "      <td>122529966</td>\n",
       "    </tr>\n",
       "    <tr>\n",
       "      <th>2185</th>\n",
       "      <td>20834</td>\n",
       "      <td>[35, 18, 10749]</td>\n",
       "      <td>427900</td>\n",
       "      <td>en</td>\n",
       "      <td>Home Again</td>\n",
       "      <td>10.478</td>\n",
       "      <td>2017-09-08</td>\n",
       "      <td>Home Again</td>\n",
       "      <td>5.9</td>\n",
       "      <td>659</td>\n",
       "      <td>57</td>\n",
       "      <td>Sep 8, 2017</td>\n",
       "      <td>15000000</td>\n",
       "      <td>27020284</td>\n",
       "      <td>37336874</td>\n",
       "    </tr>\n",
       "  </tbody>\n",
       "</table>\n",
       "<p>1000 rows × 15 columns</p>\n",
       "</div>"
      ],
      "text/plain": [
       "      Unnamed: 0            genre_ids    id_x original_language  \\\n",
       "2251       23811         [12, 28, 14]  299536                en   \n",
       "1227       11019             [28, 53]  245891                en   \n",
       "1228       11020         [28, 12, 14]  122917                en   \n",
       "683         5179        [878, 28, 12]   24428                en   \n",
       "684         5179        [878, 28, 12]   24428                en   \n",
       "...          ...                  ...     ...               ...   \n",
       "438        17547             [12, 14]   11976                en   \n",
       "1948       17548             [18, 53]  329981                en   \n",
       "927        24138      [10751, 80, 18]  495193                en   \n",
       "1338       11163  [16, 35, 10751, 12]  227783                en   \n",
       "2185       20834      [35, 18, 10749]  427900                en   \n",
       "\n",
       "                                 original_title  popularity release_date_x  \\\n",
       "2251                     Avengers: Infinity War      80.773     2018-04-27   \n",
       "1227                                  John Wick      78.123     2014-10-24   \n",
       "1228  The Hobbit: The Battle of the Five Armies      53.783     2014-12-17   \n",
       "683                                The Avengers      50.289     2012-05-04   \n",
       "684                                The Avengers      50.289     2012-05-04   \n",
       "...                                         ...         ...            ...   \n",
       "438                                      Legend      10.542     1986-04-18   \n",
       "1948                                    Shut In      10.535     2016-11-11   \n",
       "927                                       Benji      10.503     2018-03-02   \n",
       "1338                                The Nut Job      10.501     2014-01-17   \n",
       "2185                                 Home Again      10.478     2017-09-08   \n",
       "\n",
       "                                          title  vote_average  vote_count  \\\n",
       "2251                     Avengers: Infinity War           8.3       13948   \n",
       "1227                                  John Wick           7.2       10081   \n",
       "1228  The Hobbit: The Battle of the Five Armies           7.3        8392   \n",
       "683                                The Avengers           7.6       19673   \n",
       "684                                The Avengers           7.6       19673   \n",
       "...                                         ...           ...         ...   \n",
       "438                                      Legend           6.2         509   \n",
       "1948                                    Shut In           5.2         374   \n",
       "927                                       Benji           7.0         138   \n",
       "1338                                The Nut Job           5.6         529   \n",
       "2185                                 Home Again           5.9         659   \n",
       "\n",
       "      id_y release_date_y  production_budget  domestic_gross  worldwide_gross  \n",
       "2251     7   Apr 27, 2018          300000000       678815482       2048134200  \n",
       "1227     6   Oct 24, 2014           30000000        43037835         76235001  \n",
       "1228    22   Dec 17, 2014          250000000       255119788        945577621  \n",
       "683     27    May 4, 2012          225000000       623279547       1517935897  \n",
       "684     35   Aug 14, 1998           60000000        23385416         48585416  \n",
       "...    ...            ...                ...             ...              ...  \n",
       "438     63   Apr 18, 1986           25000000        15502112         23506237  \n",
       "1948    50   Nov 11, 2016           10000000         6900335         11360665  \n",
       "927     30   Nov 15, 1974             500000        31559560         31559560  \n",
       "1338    72   Jan 17, 2014           30000000        64251538        122529966  \n",
       "2185    57    Sep 8, 2017           15000000        27020284         37336874  \n",
       "\n",
       "[1000 rows x 15 columns]"
      ]
     },
     "execution_count": 68,
     "metadata": {},
     "output_type": "execute_result"
    }
   ],
   "source": [
    "top_1000_Pop_mvs"
   ]
  },
  {
   "cell_type": "code",
   "execution_count": 69,
   "id": "d965f439-3452-4fb4-9cb8-0d5edea33a20",
   "metadata": {},
   "outputs": [
    {
     "data": {
      "image/png": "[encoded data removed]",
      "text/plain": [
       "<Figure size 640x480 with 1 Axes>"
      ]
     },
     "metadata": {},
     "output_type": "display_data"
    }
   ],
   "source": [
    "sns.barplot( y= 'popularity', x = 'original_language', data = top_1000_Pop_mvs,)\n",
    "plt.title('Top 1000 Most Popular Movies based on Language')\n",
    "plt.show()"
   ]
  },
  {
   "cell_type": "markdown",
   "id": "a752d585-b877-4907-bd30-7a08dc4dda07",
   "metadata": {},
   "source": [
    "SHOW COORELAION BETWEEN POPULARITY AND PROFITABLITY"
   ]
  },
  {
   "cell_type": "code",
   "execution_count": 70,
   "id": "b01b4859-e088-4dd8-abe1-4031224f9feb",
   "metadata": {},
   "outputs": [],
   "source": [
    "df['percentage_profit_margin'] = ((df['worldwide_gross'] - df['production_budget']) / df['production_budget']) * 100"
   ]
  },
  {
   "cell_type": "code",
   "execution_count": 71,
   "id": "966bff7f-3304-4e37-b3af-1b4eb1550e15",
   "metadata": {},
   "outputs": [
    {
     "data": {
      "text/html": [
       "<div>\n",
       "<style scoped>\n",
       "    .dataframe tbody tr th:only-of-type {\n",
       "        vertical-align: middle;\n",
       "    }\n",
       "\n",
       "    .dataframe tbody tr th {\n",
       "        vertical-align: top;\n",
       "    }\n",
       "\n",
       "    .dataframe thead th {\n",
       "        text-align: right;\n",
       "    }\n",
       "</style>\n",
       "<table border=\"1\" class=\"dataframe\">\n",
       "  <thead>\n",
       "    <tr style=\"text-align: right;\">\n",
       "      <th></th>\n",
       "      <th>Unnamed: 0</th>\n",
       "      <th>genre_ids</th>\n",
       "      <th>id_x</th>\n",
       "      <th>original_language</th>\n",
       "      <th>original_title</th>\n",
       "      <th>popularity</th>\n",
       "      <th>release_date_x</th>\n",
       "      <th>title</th>\n",
       "      <th>vote_average</th>\n",
       "      <th>vote_count</th>\n",
       "      <th>id_y</th>\n",
       "      <th>release_date_y</th>\n",
       "      <th>production_budget</th>\n",
       "      <th>domestic_gross</th>\n",
       "      <th>worldwide_gross</th>\n",
       "      <th>percentage_profit_margin</th>\n",
       "    </tr>\n",
       "  </thead>\n",
       "  <tbody>\n",
       "    <tr>\n",
       "      <th>count</th>\n",
       "      <td>2385.000000</td>\n",
       "      <td>2385</td>\n",
       "      <td>2385.000000</td>\n",
       "      <td>2385</td>\n",
       "      <td>2385</td>\n",
       "      <td>2385.000000</td>\n",
       "      <td>2385</td>\n",
       "      <td>2385</td>\n",
       "      <td>2385.000000</td>\n",
       "      <td>2385.000000</td>\n",
       "      <td>2385.000000</td>\n",
       "      <td>2385</td>\n",
       "      <td>2.385000e+03</td>\n",
       "      <td>2.385000e+03</td>\n",
       "      <td>2.385000e+03</td>\n",
       "      <td>2385.000000</td>\n",
       "    </tr>\n",
       "    <tr>\n",
       "      <th>unique</th>\n",
       "      <td>NaN</td>\n",
       "      <td>674</td>\n",
       "      <td>NaN</td>\n",
       "      <td>32</td>\n",
       "      <td>1968</td>\n",
       "      <td>NaN</td>\n",
       "      <td>1046</td>\n",
       "      <td>1924</td>\n",
       "      <td>NaN</td>\n",
       "      <td>NaN</td>\n",
       "      <td>NaN</td>\n",
       "      <td>887</td>\n",
       "      <td>NaN</td>\n",
       "      <td>NaN</td>\n",
       "      <td>NaN</td>\n",
       "      <td>NaN</td>\n",
       "    </tr>\n",
       "    <tr>\n",
       "      <th>top</th>\n",
       "      <td>NaN</td>\n",
       "      <td>[18]</td>\n",
       "      <td>NaN</td>\n",
       "      <td>en</td>\n",
       "      <td>Home</td>\n",
       "      <td>NaN</td>\n",
       "      <td>2015-10-16</td>\n",
       "      <td>Home</td>\n",
       "      <td>NaN</td>\n",
       "      <td>NaN</td>\n",
       "      <td>NaN</td>\n",
       "      <td>Nov 20, 2015</td>\n",
       "      <td>NaN</td>\n",
       "      <td>NaN</td>\n",
       "      <td>NaN</td>\n",
       "      <td>NaN</td>\n",
       "    </tr>\n",
       "    <tr>\n",
       "      <th>freq</th>\n",
       "      <td>NaN</td>\n",
       "      <td>225</td>\n",
       "      <td>NaN</td>\n",
       "      <td>2255</td>\n",
       "      <td>18</td>\n",
       "      <td>NaN</td>\n",
       "      <td>15</td>\n",
       "      <td>21</td>\n",
       "      <td>NaN</td>\n",
       "      <td>NaN</td>\n",
       "      <td>NaN</td>\n",
       "      <td>17</td>\n",
       "      <td>NaN</td>\n",
       "      <td>NaN</td>\n",
       "      <td>NaN</td>\n",
       "      <td>NaN</td>\n",
       "    </tr>\n",
       "    <tr>\n",
       "      <th>mean</th>\n",
       "      <td>11491.000000</td>\n",
       "      <td>NaN</td>\n",
       "      <td>212160.239413</td>\n",
       "      <td>NaN</td>\n",
       "      <td>NaN</td>\n",
       "      <td>10.423104</td>\n",
       "      <td>NaN</td>\n",
       "      <td>NaN</td>\n",
       "      <td>6.202474</td>\n",
       "      <td>1662.224738</td>\n",
       "      <td>50.990776</td>\n",
       "      <td>NaN</td>\n",
       "      <td>3.772410e+07</td>\n",
       "      <td>4.948916e+07</td>\n",
       "      <td>1.199040e+08</td>\n",
       "      <td>331.409360</td>\n",
       "    </tr>\n",
       "    <tr>\n",
       "      <th>std</th>\n",
       "      <td>7549.622509</td>\n",
       "      <td>NaN</td>\n",
       "      <td>144783.690432</td>\n",
       "      <td>NaN</td>\n",
       "      <td>NaN</td>\n",
       "      <td>8.257018</td>\n",
       "      <td>NaN</td>\n",
       "      <td>NaN</td>\n",
       "      <td>1.184930</td>\n",
       "      <td>2681.183078</td>\n",
       "      <td>28.500793</td>\n",
       "      <td>NaN</td>\n",
       "      <td>5.125635e+07</td>\n",
       "      <td>8.275210e+07</td>\n",
       "      <td>2.213221e+08</td>\n",
       "      <td>1421.734976</td>\n",
       "    </tr>\n",
       "    <tr>\n",
       "      <th>min</th>\n",
       "      <td>1.000000</td>\n",
       "      <td>NaN</td>\n",
       "      <td>62.000000</td>\n",
       "      <td>NaN</td>\n",
       "      <td>NaN</td>\n",
       "      <td>0.600000</td>\n",
       "      <td>NaN</td>\n",
       "      <td>NaN</td>\n",
       "      <td>0.000000</td>\n",
       "      <td>1.000000</td>\n",
       "      <td>1.000000</td>\n",
       "      <td>NaN</td>\n",
       "      <td>9.000000e+03</td>\n",
       "      <td>0.000000e+00</td>\n",
       "      <td>0.000000e+00</td>\n",
       "      <td>-100.000000</td>\n",
       "    </tr>\n",
       "    <tr>\n",
       "      <th>25%</th>\n",
       "      <td>5215.000000</td>\n",
       "      <td>NaN</td>\n",
       "      <td>72431.000000</td>\n",
       "      <td>NaN</td>\n",
       "      <td>NaN</td>\n",
       "      <td>4.749000</td>\n",
       "      <td>NaN</td>\n",
       "      <td>NaN</td>\n",
       "      <td>5.600000</td>\n",
       "      <td>48.000000</td>\n",
       "      <td>27.000000</td>\n",
       "      <td>NaN</td>\n",
       "      <td>5.000000e+06</td>\n",
       "      <td>8.818240e+05</td>\n",
       "      <td>3.187302e+06</td>\n",
       "      <td>-57.113167</td>\n",
       "    </tr>\n",
       "    <tr>\n",
       "      <th>50%</th>\n",
       "      <td>11177.000000</td>\n",
       "      <td>NaN</td>\n",
       "      <td>209702.000000</td>\n",
       "      <td>NaN</td>\n",
       "      <td>NaN</td>\n",
       "      <td>9.329000</td>\n",
       "      <td>NaN</td>\n",
       "      <td>NaN</td>\n",
       "      <td>6.300000</td>\n",
       "      <td>563.000000</td>\n",
       "      <td>51.000000</td>\n",
       "      <td>NaN</td>\n",
       "      <td>1.900000e+07</td>\n",
       "      <td>2.015730e+07</td>\n",
       "      <td>3.704853e+07</td>\n",
       "      <td>77.785911</td>\n",
       "    </tr>\n",
       "    <tr>\n",
       "      <th>75%</th>\n",
       "      <td>17551.000000</td>\n",
       "      <td>NaN</td>\n",
       "      <td>332979.000000</td>\n",
       "      <td>NaN</td>\n",
       "      <td>NaN</td>\n",
       "      <td>14.239000</td>\n",
       "      <td>NaN</td>\n",
       "      <td>NaN</td>\n",
       "      <td>6.900000</td>\n",
       "      <td>2047.000000</td>\n",
       "      <td>76.000000</td>\n",
       "      <td>NaN</td>\n",
       "      <td>4.500000e+07</td>\n",
       "      <td>5.789180e+07</td>\n",
       "      <td>1.233688e+08</td>\n",
       "      <td>289.421483</td>\n",
       "    </tr>\n",
       "    <tr>\n",
       "      <th>max</th>\n",
       "      <td>26508.000000</td>\n",
       "      <td>NaN</td>\n",
       "      <td>587627.000000</td>\n",
       "      <td>NaN</td>\n",
       "      <td>NaN</td>\n",
       "      <td>80.773000</td>\n",
       "      <td>NaN</td>\n",
       "      <td>NaN</td>\n",
       "      <td>10.000000</td>\n",
       "      <td>22186.000000</td>\n",
       "      <td>100.000000</td>\n",
       "      <td>NaN</td>\n",
       "      <td>4.250000e+08</td>\n",
       "      <td>7.605076e+08</td>\n",
       "      <td>2.776345e+09</td>\n",
       "      <td>41556.474000</td>\n",
       "    </tr>\n",
       "  </tbody>\n",
       "</table>\n",
       "</div>"
      ],
      "text/plain": [
       "          Unnamed: 0 genre_ids           id_x original_language  \\\n",
       "count    2385.000000      2385    2385.000000              2385   \n",
       "unique           NaN       674            NaN                32   \n",
       "top              NaN      [18]            NaN                en   \n",
       "freq             NaN       225            NaN              2255   \n",
       "mean    11491.000000       NaN  212160.239413               NaN   \n",
       "std      7549.622509       NaN  144783.690432               NaN   \n",
       "min         1.000000       NaN      62.000000               NaN   \n",
       "25%      5215.000000       NaN   72431.000000               NaN   \n",
       "50%     11177.000000       NaN  209702.000000               NaN   \n",
       "75%     17551.000000       NaN  332979.000000               NaN   \n",
       "max     26508.000000       NaN  587627.000000               NaN   \n",
       "\n",
       "       original_title   popularity release_date_x title  vote_average  \\\n",
       "count            2385  2385.000000           2385  2385   2385.000000   \n",
       "unique           1968          NaN           1046  1924           NaN   \n",
       "top              Home          NaN     2015-10-16  Home           NaN   \n",
       "freq               18          NaN             15    21           NaN   \n",
       "mean              NaN    10.423104            NaN   NaN      6.202474   \n",
       "std               NaN     8.257018            NaN   NaN      1.184930   \n",
       "min               NaN     0.600000            NaN   NaN      0.000000   \n",
       "25%               NaN     4.749000            NaN   NaN      5.600000   \n",
       "50%               NaN     9.329000            NaN   NaN      6.300000   \n",
       "75%               NaN    14.239000            NaN   NaN      6.900000   \n",
       "max               NaN    80.773000            NaN   NaN     10.000000   \n",
       "\n",
       "          vote_count         id_y release_date_y  production_budget  \\\n",
       "count    2385.000000  2385.000000           2385       2.385000e+03   \n",
       "unique           NaN          NaN            887                NaN   \n",
       "top              NaN          NaN   Nov 20, 2015                NaN   \n",
       "freq             NaN          NaN             17                NaN   \n",
       "mean     1662.224738    50.990776            NaN       3.772410e+07   \n",
       "std      2681.183078    28.500793            NaN       5.125635e+07   \n",
       "min         1.000000     1.000000            NaN       9.000000e+03   \n",
       "25%        48.000000    27.000000            NaN       5.000000e+06   \n",
       "50%       563.000000    51.000000            NaN       1.900000e+07   \n",
       "75%      2047.000000    76.000000            NaN       4.500000e+07   \n",
       "max     22186.000000   100.000000            NaN       4.250000e+08   \n",
       "\n",
       "        domestic_gross  worldwide_gross  percentage_profit_margin  \n",
       "count     2.385000e+03     2.385000e+03               2385.000000  \n",
       "unique             NaN              NaN                       NaN  \n",
       "top                NaN              NaN                       NaN  \n",
       "freq               NaN              NaN                       NaN  \n",
       "mean      4.948916e+07     1.199040e+08                331.409360  \n",
       "std       8.275210e+07     2.213221e+08               1421.734976  \n",
       "min       0.000000e+00     0.000000e+00               -100.000000  \n",
       "25%       8.818240e+05     3.187302e+06                -57.113167  \n",
       "50%       2.015730e+07     3.704853e+07                 77.785911  \n",
       "75%       5.789180e+07     1.233688e+08                289.421483  \n",
       "max       7.605076e+08     2.776345e+09              41556.474000  "
      ]
     },
     "execution_count": 71,
     "metadata": {},
     "output_type": "execute_result"
    }
   ],
   "source": [
    "df.describe( include='all')"
   ]
  },
  {
   "cell_type": "code",
   "execution_count": 72,
   "id": "d7fe0ef9-63da-4f2d-8d3c-530f9124f600",
   "metadata": {},
   "outputs": [
    {
     "data": {
      "text/html": [
       "<div>\n",
       "<style scoped>\n",
       "    .dataframe tbody tr th:only-of-type {\n",
       "        vertical-align: middle;\n",
       "    }\n",
       "\n",
       "    .dataframe tbody tr th {\n",
       "        vertical-align: top;\n",
       "    }\n",
       "\n",
       "    .dataframe thead th {\n",
       "        text-align: right;\n",
       "    }\n",
       "</style>\n",
       "<table border=\"1\" class=\"dataframe\">\n",
       "  <thead>\n",
       "    <tr style=\"text-align: right;\">\n",
       "      <th></th>\n",
       "      <th>Unnamed: 0</th>\n",
       "      <th>genre_ids</th>\n",
       "      <th>id_x</th>\n",
       "      <th>original_language</th>\n",
       "      <th>original_title</th>\n",
       "      <th>popularity</th>\n",
       "      <th>release_date_x</th>\n",
       "      <th>title</th>\n",
       "      <th>vote_average</th>\n",
       "      <th>vote_count</th>\n",
       "      <th>id_y</th>\n",
       "      <th>release_date_y</th>\n",
       "      <th>production_budget</th>\n",
       "      <th>domestic_gross</th>\n",
       "      <th>worldwide_gross</th>\n",
       "      <th>percentage_profit_margin</th>\n",
       "    </tr>\n",
       "  </thead>\n",
       "  <tbody>\n",
       "    <tr>\n",
       "      <th>0</th>\n",
       "      <td>1</td>\n",
       "      <td>[14, 12, 16, 10751]</td>\n",
       "      <td>10191</td>\n",
       "      <td>en</td>\n",
       "      <td>How to Train Your Dragon</td>\n",
       "      <td>28.734</td>\n",
       "      <td>2010-03-26</td>\n",
       "      <td>How to Train Your Dragon</td>\n",
       "      <td>7.7</td>\n",
       "      <td>7610</td>\n",
       "      <td>30</td>\n",
       "      <td>Mar 26, 2010</td>\n",
       "      <td>165000000</td>\n",
       "      <td>217581232</td>\n",
       "      <td>494870992</td>\n",
       "      <td>199.921813</td>\n",
       "    </tr>\n",
       "    <tr>\n",
       "      <th>1</th>\n",
       "      <td>2</td>\n",
       "      <td>[12, 28, 878]</td>\n",
       "      <td>10138</td>\n",
       "      <td>en</td>\n",
       "      <td>Iron Man 2</td>\n",
       "      <td>28.515</td>\n",
       "      <td>2010-05-07</td>\n",
       "      <td>Iron Man 2</td>\n",
       "      <td>6.8</td>\n",
       "      <td>12368</td>\n",
       "      <td>15</td>\n",
       "      <td>May 7, 2010</td>\n",
       "      <td>170000000</td>\n",
       "      <td>312433331</td>\n",
       "      <td>621156389</td>\n",
       "      <td>265.386111</td>\n",
       "    </tr>\n",
       "    <tr>\n",
       "      <th>2</th>\n",
       "      <td>3</td>\n",
       "      <td>[16, 35, 10751]</td>\n",
       "      <td>862</td>\n",
       "      <td>en</td>\n",
       "      <td>Toy Story</td>\n",
       "      <td>28.005</td>\n",
       "      <td>1995-11-22</td>\n",
       "      <td>Toy Story</td>\n",
       "      <td>7.9</td>\n",
       "      <td>10174</td>\n",
       "      <td>37</td>\n",
       "      <td>Nov 22, 1995</td>\n",
       "      <td>30000000</td>\n",
       "      <td>191796233</td>\n",
       "      <td>364545516</td>\n",
       "      <td>1115.151720</td>\n",
       "    </tr>\n",
       "    <tr>\n",
       "      <th>3</th>\n",
       "      <td>2473</td>\n",
       "      <td>[16, 35, 10751]</td>\n",
       "      <td>862</td>\n",
       "      <td>en</td>\n",
       "      <td>Toy Story</td>\n",
       "      <td>28.005</td>\n",
       "      <td>1995-11-22</td>\n",
       "      <td>Toy Story</td>\n",
       "      <td>7.9</td>\n",
       "      <td>10174</td>\n",
       "      <td>37</td>\n",
       "      <td>Nov 22, 1995</td>\n",
       "      <td>30000000</td>\n",
       "      <td>191796233</td>\n",
       "      <td>364545516</td>\n",
       "      <td>1115.151720</td>\n",
       "    </tr>\n",
       "    <tr>\n",
       "      <th>4</th>\n",
       "      <td>4</td>\n",
       "      <td>[28, 878, 12]</td>\n",
       "      <td>27205</td>\n",
       "      <td>en</td>\n",
       "      <td>Inception</td>\n",
       "      <td>27.920</td>\n",
       "      <td>2010-07-16</td>\n",
       "      <td>Inception</td>\n",
       "      <td>8.3</td>\n",
       "      <td>22186</td>\n",
       "      <td>38</td>\n",
       "      <td>Jul 16, 2010</td>\n",
       "      <td>160000000</td>\n",
       "      <td>292576195</td>\n",
       "      <td>835524642</td>\n",
       "      <td>422.202901</td>\n",
       "    </tr>\n",
       "  </tbody>\n",
       "</table>\n",
       "</div>"
      ],
      "text/plain": [
       "   Unnamed: 0            genre_ids   id_x original_language  \\\n",
       "0           1  [14, 12, 16, 10751]  10191                en   \n",
       "1           2        [12, 28, 878]  10138                en   \n",
       "2           3      [16, 35, 10751]    862                en   \n",
       "3        2473      [16, 35, 10751]    862                en   \n",
       "4           4        [28, 878, 12]  27205                en   \n",
       "\n",
       "             original_title  popularity release_date_x  \\\n",
       "0  How to Train Your Dragon      28.734     2010-03-26   \n",
       "1                Iron Man 2      28.515     2010-05-07   \n",
       "2                 Toy Story      28.005     1995-11-22   \n",
       "3                 Toy Story      28.005     1995-11-22   \n",
       "4                 Inception      27.920     2010-07-16   \n",
       "\n",
       "                      title  vote_average  vote_count  id_y release_date_y  \\\n",
       "0  How to Train Your Dragon           7.7        7610    30   Mar 26, 2010   \n",
       "1                Iron Man 2           6.8       12368    15    May 7, 2010   \n",
       "2                 Toy Story           7.9       10174    37   Nov 22, 1995   \n",
       "3                 Toy Story           7.9       10174    37   Nov 22, 1995   \n",
       "4                 Inception           8.3       22186    38   Jul 16, 2010   \n",
       "\n",
       "   production_budget  domestic_gross  worldwide_gross  \\\n",
       "0          165000000       217581232        494870992   \n",
       "1          170000000       312433331        621156389   \n",
       "2           30000000       191796233        364545516   \n",
       "3           30000000       191796233        364545516   \n",
       "4          160000000       292576195        835524642   \n",
       "\n",
       "   percentage_profit_margin  \n",
       "0                199.921813  \n",
       "1                265.386111  \n",
       "2               1115.151720  \n",
       "3               1115.151720  \n",
       "4                422.202901  "
      ]
     },
     "execution_count": 72,
     "metadata": {},
     "output_type": "execute_result"
    }
   ],
   "source": [
    "df.head()"
   ]
  },
  {
   "cell_type": "markdown",
   "id": "eb170000-7dce-4f8b-92df-868a929cae4f",
   "metadata": {},
   "source": [
    "CHECK FOR NAN AND INF VALUES IN PERCENTAGE_PROFIT_MARGIN COLUMN"
   ]
  },
  {
   "cell_type": "code",
   "execution_count": 73,
   "id": "b8a5eaf4-e721-4def-915b-69de3b7da97c",
   "metadata": {},
   "outputs": [],
   "source": [
    "nan_values = df['percentage_profit_margin'].isna()"
   ]
  },
  {
   "cell_type": "code",
   "execution_count": 74,
   "id": "1f3e7717-0205-404c-9494-03cf20086b72",
   "metadata": {},
   "outputs": [
    {
     "name": "stdout",
     "output_type": "stream",
     "text": [
      "Empty DataFrame\n",
      "Columns: [Unnamed: 0, genre_ids, id_x, original_language, original_title, popularity, release_date_x, title, vote_average, vote_count, id_y, release_date_y, production_budget, domestic_gross, worldwide_gross, percentage_profit_margin]\n",
      "Index: []\n"
     ]
    }
   ],
   "source": [
    "print(df[nan_values])"
   ]
  },
  {
   "cell_type": "code",
   "execution_count": 75,
   "id": "2197e855-fc63-4ca9-9495-966010341b70",
   "metadata": {},
   "outputs": [],
   "source": [
    "inf_values = df['percentage_profit_margin'] == np.inf"
   ]
  },
  {
   "cell_type": "code",
   "execution_count": 76,
   "id": "b951b4c2-7f30-49df-ae33-53ebc5c532bd",
   "metadata": {},
   "outputs": [
    {
     "name": "stdout",
     "output_type": "stream",
     "text": [
      "Empty DataFrame\n",
      "Columns: [Unnamed: 0, genre_ids, id_x, original_language, original_title, popularity, release_date_x, title, vote_average, vote_count, id_y, release_date_y, production_budget, domestic_gross, worldwide_gross, percentage_profit_margin]\n",
      "Index: []\n"
     ]
    }
   ],
   "source": [
    "print(df[inf_values])"
   ]
  },
  {
   "cell_type": "markdown",
   "id": "954d4c2f-f3a4-4ab5-97fd-638b00f71ca9",
   "metadata": {},
   "source": [
    "REPLACE INF VALUES WITH NAN"
   ]
  },
  {
   "cell_type": "code",
   "execution_count": 77,
   "id": "8fdf06fd-04c8-48e2-ae97-da635105128e",
   "metadata": {},
   "outputs": [],
   "source": [
    "df.replace([np.inf, -np.inf], np.nan, inplace=True)"
   ]
  },
  {
   "cell_type": "code",
   "execution_count": 78,
   "id": "0d9c193e-1838-4d21-8fc8-37d3b878a916",
   "metadata": {},
   "outputs": [],
   "source": [
    "df.dropna(subset=['popularity', 'percentage_profit_margin'], inplace=True)"
   ]
  },
  {
   "cell_type": "code",
   "execution_count": 79,
   "id": "c4337396-7630-4f2a-9da7-f4f43df90712",
   "metadata": {},
   "outputs": [
    {
     "data": {
      "image/png": "[encoded data removed]",
      "text/plain": [
       "<Figure size 1000x600 with 1 Axes>"
      ]
     },
     "metadata": {},
     "output_type": "display_data"
    }
   ],
   "source": [
    "plt.figure(figsize=(10, 6))\n",
    "sns.lineplot(data=df, x='popularity', y='percentage_profit_margin')\n",
    "plt.title('Correlation between Popularity and Percentage Profit Margin')\n",
    "plt.xlabel('Popularity')\n",
    "plt.ylabel('Percentage Profit Margin')\n",
    "plt.show()"
   ]
  },
  {
   "cell_type": "code",
   "execution_count": 80,
   "id": "826df7bc-3914-4ba3-b70b-abae86fd5a32",
   "metadata": {},
   "outputs": [
    {
     "data": {
      "text/html": [
       "<div>\n",
       "<style scoped>\n",
       "    .dataframe tbody tr th:only-of-type {\n",
       "        vertical-align: middle;\n",
       "    }\n",
       "\n",
       "    .dataframe tbody tr th {\n",
       "        vertical-align: top;\n",
       "    }\n",
       "\n",
       "    .dataframe thead th {\n",
       "        text-align: right;\n",
       "    }\n",
       "</style>\n",
       "<table border=\"1\" class=\"dataframe\">\n",
       "  <thead>\n",
       "    <tr style=\"text-align: right;\">\n",
       "      <th></th>\n",
       "      <th>Unnamed: 0</th>\n",
       "      <th>genre_ids</th>\n",
       "      <th>id_x</th>\n",
       "      <th>original_language</th>\n",
       "      <th>original_title</th>\n",
       "      <th>popularity</th>\n",
       "      <th>release_date_x</th>\n",
       "      <th>title</th>\n",
       "      <th>vote_average</th>\n",
       "      <th>vote_count</th>\n",
       "      <th>id_y</th>\n",
       "      <th>release_date_y</th>\n",
       "      <th>production_budget</th>\n",
       "      <th>domestic_gross</th>\n",
       "      <th>worldwide_gross</th>\n",
       "      <th>percentage_profit_margin</th>\n",
       "    </tr>\n",
       "  </thead>\n",
       "  <tbody>\n",
       "    <tr>\n",
       "      <th>1659</th>\n",
       "      <td>14362</td>\n",
       "      <td>[27, 53]</td>\n",
       "      <td>299245</td>\n",
       "      <td>en</td>\n",
       "      <td>The Gallows</td>\n",
       "      <td>9.166</td>\n",
       "      <td>2015-07-10</td>\n",
       "      <td>The Gallows</td>\n",
       "      <td>4.8</td>\n",
       "      <td>591</td>\n",
       "      <td>80</td>\n",
       "      <td>Jul 10, 2015</td>\n",
       "      <td>100000</td>\n",
       "      <td>22764410</td>\n",
       "      <td>41656474</td>\n",
       "      <td>41556.474000</td>\n",
       "    </tr>\n",
       "    <tr>\n",
       "      <th>1510</th>\n",
       "      <td>13651</td>\n",
       "      <td>[27]</td>\n",
       "      <td>295154</td>\n",
       "      <td>en</td>\n",
       "      <td>Night of the Living Dead</td>\n",
       "      <td>0.600</td>\n",
       "      <td>2014-10-24</td>\n",
       "      <td>Night of the Living Dead</td>\n",
       "      <td>6.5</td>\n",
       "      <td>1</td>\n",
       "      <td>77</td>\n",
       "      <td>Oct 1, 1968</td>\n",
       "      <td>114000</td>\n",
       "      <td>12087064</td>\n",
       "      <td>30087064</td>\n",
       "      <td>26292.161404</td>\n",
       "    </tr>\n",
       "    <tr>\n",
       "      <th>2303</th>\n",
       "      <td>23894</td>\n",
       "      <td>[53, 27]</td>\n",
       "      <td>424139</td>\n",
       "      <td>en</td>\n",
       "      <td>Halloween</td>\n",
       "      <td>20.839</td>\n",
       "      <td>2018-10-19</td>\n",
       "      <td>Halloween</td>\n",
       "      <td>6.4</td>\n",
       "      <td>2020</td>\n",
       "      <td>37</td>\n",
       "      <td>Oct 17, 1978</td>\n",
       "      <td>325000</td>\n",
       "      <td>47000000</td>\n",
       "      <td>70000000</td>\n",
       "      <td>21438.461538</td>\n",
       "    </tr>\n",
       "    <tr>\n",
       "      <th>834</th>\n",
       "      <td>5444</td>\n",
       "      <td>[53, 27]</td>\n",
       "      <td>76487</td>\n",
       "      <td>en</td>\n",
       "      <td>The Devil Inside</td>\n",
       "      <td>7.403</td>\n",
       "      <td>2012-01-06</td>\n",
       "      <td>The Devil Inside</td>\n",
       "      <td>4.7</td>\n",
       "      <td>441</td>\n",
       "      <td>12</td>\n",
       "      <td>Jan 6, 2012</td>\n",
       "      <td>1000000</td>\n",
       "      <td>53262945</td>\n",
       "      <td>101759490</td>\n",
       "      <td>10075.949000</td>\n",
       "    </tr>\n",
       "    <tr>\n",
       "      <th>2006</th>\n",
       "      <td>21002</td>\n",
       "      <td>[18]</td>\n",
       "      <td>339408</td>\n",
       "      <td>en</td>\n",
       "      <td>The Birth of a Nation</td>\n",
       "      <td>8.152</td>\n",
       "      <td>2016-10-07</td>\n",
       "      <td>The Birth of a Nation</td>\n",
       "      <td>6.5</td>\n",
       "      <td>328</td>\n",
       "      <td>78</td>\n",
       "      <td>Feb 8, 1915</td>\n",
       "      <td>110000</td>\n",
       "      <td>10000000</td>\n",
       "      <td>11000000</td>\n",
       "      <td>9900.000000</td>\n",
       "    </tr>\n",
       "    <tr>\n",
       "      <th>...</th>\n",
       "      <td>...</td>\n",
       "      <td>...</td>\n",
       "      <td>...</td>\n",
       "      <td>...</td>\n",
       "      <td>...</td>\n",
       "      <td>...</td>\n",
       "      <td>...</td>\n",
       "      <td>...</td>\n",
       "      <td>...</td>\n",
       "      <td>...</td>\n",
       "      <td>...</td>\n",
       "      <td>...</td>\n",
       "      <td>...</td>\n",
       "      <td>...</td>\n",
       "      <td>...</td>\n",
       "      <td>...</td>\n",
       "    </tr>\n",
       "    <tr>\n",
       "      <th>2106</th>\n",
       "      <td>20662</td>\n",
       "      <td>[18, 10751]</td>\n",
       "      <td>406997</td>\n",
       "      <td>en</td>\n",
       "      <td>Wonder</td>\n",
       "      <td>20.101</td>\n",
       "      <td>2017-11-17</td>\n",
       "      <td>Wonder</td>\n",
       "      <td>8.2</td>\n",
       "      <td>3959</td>\n",
       "      <td>95</td>\n",
       "      <td>Nov 17, 2017</td>\n",
       "      <td>20000000</td>\n",
       "      <td>132422809</td>\n",
       "      <td>304604712</td>\n",
       "      <td>1423.023560</td>\n",
       "    </tr>\n",
       "    <tr>\n",
       "      <th>1235</th>\n",
       "      <td>11026</td>\n",
       "      <td>[36, 18, 53, 10752]</td>\n",
       "      <td>205596</td>\n",
       "      <td>en</td>\n",
       "      <td>The Imitation Game</td>\n",
       "      <td>33.078</td>\n",
       "      <td>2014-12-19</td>\n",
       "      <td>The Imitation Game</td>\n",
       "      <td>8.1</td>\n",
       "      <td>10396</td>\n",
       "      <td>6</td>\n",
       "      <td>Nov 28, 2014</td>\n",
       "      <td>15000000</td>\n",
       "      <td>91125143</td>\n",
       "      <td>227740463</td>\n",
       "      <td>1418.269753</td>\n",
       "    </tr>\n",
       "    <tr>\n",
       "      <th>1291</th>\n",
       "      <td>11083</td>\n",
       "      <td>[35]</td>\n",
       "      <td>195589</td>\n",
       "      <td>en</td>\n",
       "      <td>Neighbors</td>\n",
       "      <td>14.979</td>\n",
       "      <td>2014-05-09</td>\n",
       "      <td>Neighbors</td>\n",
       "      <td>6.2</td>\n",
       "      <td>4536</td>\n",
       "      <td>64</td>\n",
       "      <td>May 9, 2014</td>\n",
       "      <td>18000000</td>\n",
       "      <td>150086800</td>\n",
       "      <td>270944428</td>\n",
       "      <td>1405.246822</td>\n",
       "    </tr>\n",
       "    <tr>\n",
       "      <th>1248</th>\n",
       "      <td>11038</td>\n",
       "      <td>[878, 28, 12, 14, 35]</td>\n",
       "      <td>98566</td>\n",
       "      <td>en</td>\n",
       "      <td>Teenage Mutant Ninja Turtles</td>\n",
       "      <td>25.619</td>\n",
       "      <td>2014-08-08</td>\n",
       "      <td>Teenage Mutant Ninja Turtles</td>\n",
       "      <td>5.8</td>\n",
       "      <td>4259</td>\n",
       "      <td>33</td>\n",
       "      <td>Mar 30, 1990</td>\n",
       "      <td>13500000</td>\n",
       "      <td>135265915</td>\n",
       "      <td>202000000</td>\n",
       "      <td>1396.296296</td>\n",
       "    </tr>\n",
       "    <tr>\n",
       "      <th>459</th>\n",
       "      <td>2629</td>\n",
       "      <td>[18, 10749]</td>\n",
       "      <td>60420</td>\n",
       "      <td>en</td>\n",
       "      <td>Like Crazy</td>\n",
       "      <td>10.091</td>\n",
       "      <td>2011-10-28</td>\n",
       "      <td>Like Crazy</td>\n",
       "      <td>6.5</td>\n",
       "      <td>638</td>\n",
       "      <td>74</td>\n",
       "      <td>Oct 28, 2011</td>\n",
       "      <td>250000</td>\n",
       "      <td>3395391</td>\n",
       "      <td>3728400</td>\n",
       "      <td>1391.360000</td>\n",
       "    </tr>\n",
       "  </tbody>\n",
       "</table>\n",
       "<p>100 rows × 16 columns</p>\n",
       "</div>"
      ],
      "text/plain": [
       "      Unnamed: 0              genre_ids    id_x original_language  \\\n",
       "1659       14362               [27, 53]  299245                en   \n",
       "1510       13651                   [27]  295154                en   \n",
       "2303       23894               [53, 27]  424139                en   \n",
       "834         5444               [53, 27]   76487                en   \n",
       "2006       21002                   [18]  339408                en   \n",
       "...          ...                    ...     ...               ...   \n",
       "2106       20662            [18, 10751]  406997                en   \n",
       "1235       11026    [36, 18, 53, 10752]  205596                en   \n",
       "1291       11083                   [35]  195589                en   \n",
       "1248       11038  [878, 28, 12, 14, 35]   98566                en   \n",
       "459         2629            [18, 10749]   60420                en   \n",
       "\n",
       "                    original_title  popularity release_date_x  \\\n",
       "1659                   The Gallows       9.166     2015-07-10   \n",
       "1510      Night of the Living Dead       0.600     2014-10-24   \n",
       "2303                     Halloween      20.839     2018-10-19   \n",
       "834               The Devil Inside       7.403     2012-01-06   \n",
       "2006         The Birth of a Nation       8.152     2016-10-07   \n",
       "...                            ...         ...            ...   \n",
       "2106                        Wonder      20.101     2017-11-17   \n",
       "1235            The Imitation Game      33.078     2014-12-19   \n",
       "1291                     Neighbors      14.979     2014-05-09   \n",
       "1248  Teenage Mutant Ninja Turtles      25.619     2014-08-08   \n",
       "459                     Like Crazy      10.091     2011-10-28   \n",
       "\n",
       "                             title  vote_average  vote_count  id_y  \\\n",
       "1659                   The Gallows           4.8         591    80   \n",
       "1510      Night of the Living Dead           6.5           1    77   \n",
       "2303                     Halloween           6.4        2020    37   \n",
       "834               The Devil Inside           4.7         441    12   \n",
       "2006         The Birth of a Nation           6.5         328    78   \n",
       "...                            ...           ...         ...   ...   \n",
       "2106                        Wonder           8.2        3959    95   \n",
       "1235            The Imitation Game           8.1       10396     6   \n",
       "1291                     Neighbors           6.2        4536    64   \n",
       "1248  Teenage Mutant Ninja Turtles           5.8        4259    33   \n",
       "459                     Like Crazy           6.5         638    74   \n",
       "\n",
       "     release_date_y  production_budget  domestic_gross  worldwide_gross  \\\n",
       "1659   Jul 10, 2015             100000        22764410         41656474   \n",
       "1510    Oct 1, 1968             114000        12087064         30087064   \n",
       "2303   Oct 17, 1978             325000        47000000         70000000   \n",
       "834     Jan 6, 2012            1000000        53262945        101759490   \n",
       "2006    Feb 8, 1915             110000        10000000         11000000   \n",
       "...             ...                ...             ...              ...   \n",
       "2106   Nov 17, 2017           20000000       132422809        304604712   \n",
       "1235   Nov 28, 2014           15000000        91125143        227740463   \n",
       "1291    May 9, 2014           18000000       150086800        270944428   \n",
       "1248   Mar 30, 1990           13500000       135265915        202000000   \n",
       "459    Oct 28, 2011             250000         3395391          3728400   \n",
       "\n",
       "      percentage_profit_margin  \n",
       "1659              41556.474000  \n",
       "1510              26292.161404  \n",
       "2303              21438.461538  \n",
       "834               10075.949000  \n",
       "2006               9900.000000  \n",
       "...                        ...  \n",
       "2106               1423.023560  \n",
       "1235               1418.269753  \n",
       "1291               1405.246822  \n",
       "1248               1396.296296  \n",
       "459                1391.360000  \n",
       "\n",
       "[100 rows x 16 columns]"
      ]
     },
     "execution_count": 80,
     "metadata": {},
     "output_type": "execute_result"
    }
   ],
   "source": [
    "top_100_Prof_mvs = df.sort_values(by='percentage_profit_margin', ascending=False).head(100)\n",
    "top_100_Prof_mvs "
   ]
  },
  {
   "cell_type": "markdown",
   "id": "7dffa04d-4689-442c-b1a6-c749eaa2ba50",
   "metadata": {},
   "source": [
    "SHOW COORELATION BETWEEN VOTE COUNT AND POPULARITY"
   ]
  },
  {
   "cell_type": "code",
   "execution_count": 81,
   "id": "bae66a45-c994-499d-b4a9-98ac29e71847",
   "metadata": {},
   "outputs": [
    {
     "data": {
      "text/plain": [
       "Text(0.5, 1.0, 'poularity_vs_votecount')"
      ]
     },
     "execution_count": 81,
     "metadata": {},
     "output_type": "execute_result"
    },
    {
     "data": {
      "image/png": "[encoded data removed]",
      "text/plain": [
       "<Figure size 640x480 with 1 Axes>"
      ]
     },
     "metadata": {},
     "output_type": "display_data"
    }
   ],
   "source": [
    "sns.scatterplot(data=df, x='popularity', y='vote_count', color = \"violet\")\n",
    "plt.xlabel('popularity')\n",
    "plt.ylabel('vote_count')\n",
    "plt.title(\"poularity_vs_votecount\")"
   ]
  },
  {
   "cell_type": "markdown",
   "id": "6f6ca116-621c-4cf8-81d8-455aa586a4aa",
   "metadata": {},
   "source": [
    "CREATE AND READ DATA FRAME FOR bom.movie_gross DATA SET"
   ]
  },
  {
   "cell_type": "code",
   "execution_count": 107,
   "id": "ccabeeb3-79f7-4fa6-aaba-0da7455cfb04",
   "metadata": {},
   "outputs": [],
   "source": [
    "df= pd.read_csv(r'C:/Users/PC/Music/DataScience_Phase_1_Project/dsc-phase-1-project-v2-4/zippedData/bom.movie_gross.csv')"
   ]
  },
  {
   "cell_type": "markdown",
   "id": "2fdc98f2-3cf7-4e3c-b943-338a221b5c06",
   "metadata": {},
   "source": [
    "DISPLAY FIRST FIVE TOW"
   ]
  },
  {
   "cell_type": "code",
   "execution_count": 108,
   "id": "608d9b60-92a2-49e5-86ed-6b4703ed2d45",
   "metadata": {},
   "outputs": [
    {
     "data": {
      "text/html": [
       "<div>\n",
       "<style scoped>\n",
       "    .dataframe tbody tr th:only-of-type {\n",
       "        vertical-align: middle;\n",
       "    }\n",
       "\n",
       "    .dataframe tbody tr th {\n",
       "        vertical-align: top;\n",
       "    }\n",
       "\n",
       "    .dataframe thead th {\n",
       "        text-align: right;\n",
       "    }\n",
       "</style>\n",
       "<table border=\"1\" class=\"dataframe\">\n",
       "  <thead>\n",
       "    <tr style=\"text-align: right;\">\n",
       "      <th></th>\n",
       "      <th>title</th>\n",
       "      <th>studio</th>\n",
       "      <th>domestic_gross</th>\n",
       "      <th>foreign_gross</th>\n",
       "      <th>year</th>\n",
       "    </tr>\n",
       "  </thead>\n",
       "  <tbody>\n",
       "    <tr>\n",
       "      <th>0</th>\n",
       "      <td>Toy Story 3</td>\n",
       "      <td>BV</td>\n",
       "      <td>415000000.0</td>\n",
       "      <td>652000000</td>\n",
       "      <td>2010</td>\n",
       "    </tr>\n",
       "    <tr>\n",
       "      <th>1</th>\n",
       "      <td>Alice in Wonderland (2010)</td>\n",
       "      <td>BV</td>\n",
       "      <td>334200000.0</td>\n",
       "      <td>691300000</td>\n",
       "      <td>2010</td>\n",
       "    </tr>\n",
       "    <tr>\n",
       "      <th>2</th>\n",
       "      <td>Harry Potter and the Deathly Hallows Part 1</td>\n",
       "      <td>WB</td>\n",
       "      <td>296000000.0</td>\n",
       "      <td>664300000</td>\n",
       "      <td>2010</td>\n",
       "    </tr>\n",
       "    <tr>\n",
       "      <th>3</th>\n",
       "      <td>Inception</td>\n",
       "      <td>WB</td>\n",
       "      <td>292600000.0</td>\n",
       "      <td>535700000</td>\n",
       "      <td>2010</td>\n",
       "    </tr>\n",
       "    <tr>\n",
       "      <th>4</th>\n",
       "      <td>Shrek Forever After</td>\n",
       "      <td>P/DW</td>\n",
       "      <td>238700000.0</td>\n",
       "      <td>513900000</td>\n",
       "      <td>2010</td>\n",
       "    </tr>\n",
       "  </tbody>\n",
       "</table>\n",
       "</div>"
      ],
      "text/plain": [
       "                                         title studio  domestic_gross  \\\n",
       "0                                  Toy Story 3     BV     415000000.0   \n",
       "1                   Alice in Wonderland (2010)     BV     334200000.0   \n",
       "2  Harry Potter and the Deathly Hallows Part 1     WB     296000000.0   \n",
       "3                                    Inception     WB     292600000.0   \n",
       "4                          Shrek Forever After   P/DW     238700000.0   \n",
       "\n",
       "  foreign_gross  year  \n",
       "0     652000000  2010  \n",
       "1     691300000  2010  \n",
       "2     664300000  2010  \n",
       "3     535700000  2010  \n",
       "4     513900000  2010  "
      ]
     },
     "execution_count": 108,
     "metadata": {},
     "output_type": "execute_result"
    }
   ],
   "source": [
    "df.head()"
   ]
  },
  {
   "cell_type": "markdown",
   "id": "f466c51b-24ef-4b78-83a9-d8e7935da4ba",
   "metadata": {},
   "source": [
    "GET INFORMATION ON THE DATASET"
   ]
  },
  {
   "cell_type": "code",
   "execution_count": 109,
   "id": "c49b326f-a926-49c5-9823-295acbe83050",
   "metadata": {},
   "outputs": [
    {
     "name": "stdout",
     "output_type": "stream",
     "text": [
      "<class 'pandas.core.frame.DataFrame'>\n",
      "RangeIndex: 3387 entries, 0 to 3386\n",
      "Data columns (total 5 columns):\n",
      " #   Column          Non-Null Count  Dtype  \n",
      "---  ------          --------------  -----  \n",
      " 0   title           3387 non-null   object \n",
      " 1   studio          3382 non-null   object \n",
      " 2   domestic_gross  3359 non-null   float64\n",
      " 3   foreign_gross   2037 non-null   object \n",
      " 4   year            3387 non-null   int64  \n",
      "dtypes: float64(1), int64(1), object(3)\n",
      "memory usage: 132.4+ KB\n"
     ]
    }
   ],
   "source": [
    "df.info()"
   ]
  },
  {
   "cell_type": "markdown",
   "id": "d0835d43-e541-45d6-9419-6a8f24833835",
   "metadata": {},
   "source": [
    "GET INFORMATION ONNUMBERS OF ROWS AND COLUMNS ON THE DATASET"
   ]
  },
  {
   "cell_type": "code",
   "execution_count": 110,
   "id": "ecbb359a-f72e-4331-b8f1-2950f866b399",
   "metadata": {},
   "outputs": [
    {
     "data": {
      "text/plain": [
       "(3387, 5)"
      ]
     },
     "execution_count": 110,
     "metadata": {},
     "output_type": "execute_result"
    }
   ],
   "source": [
    "df = pd.DataFrame(df) \n",
    "df.shape"
   ]
  },
  {
   "cell_type": "markdown",
   "id": "f98db03a-5077-40e0-b338-99aa8571bb17",
   "metadata": {},
   "source": [
    "CHECK FOR MISSING VALUES IN THE DATA SET"
   ]
  },
  {
   "cell_type": "code",
   "execution_count": 111,
   "id": "204f9f5c-f5cb-4146-adb6-375a0715af8a",
   "metadata": {},
   "outputs": [
    {
     "data": {
      "text/plain": [
       "title                0\n",
       "studio               5\n",
       "domestic_gross      28\n",
       "foreign_gross     1350\n",
       "year                 0\n",
       "dtype: int64"
      ]
     },
     "execution_count": 111,
     "metadata": {},
     "output_type": "execute_result"
    }
   ],
   "source": [
    "df.isnull().sum()"
   ]
  },
  {
   "cell_type": "code",
   "execution_count": 112,
   "id": "e618e45f-3131-44bd-96af-074f9da484ed",
   "metadata": {},
   "outputs": [
    {
     "data": {
      "text/plain": [
       "<Axes: >"
      ]
     },
     "execution_count": 112,
     "metadata": {},
     "output_type": "execute_result"
    },
    {
     "data": {
      "image/png": "[encoded data removed]",
      "text/plain": [
       "<Figure size 640x480 with 2 Axes>"
      ]
     },
     "metadata": {},
     "output_type": "display_data"
    }
   ],
   "source": [
    "sns.heatmap(df.isnull())"
   ]
  },
  {
   "cell_type": "markdown",
   "id": "342e83da-338a-4dae-b50b-86ebdb41717f",
   "metadata": {},
   "source": [
    "DROP THE MISSING VALUES"
   ]
  },
  {
   "cell_type": "code",
   "execution_count": 113,
   "id": "794d1e12-08fd-4881-929b-e686807c7d84",
   "metadata": {},
   "outputs": [],
   "source": [
    "df_dropped2 = df.dropna()"
   ]
  },
  {
   "cell_type": "code",
   "execution_count": 114,
   "id": "4f7569a9-de15-420d-b326-090948ae8cec",
   "metadata": {},
   "outputs": [
    {
     "data": {
      "text/plain": [
       "(2007, 5)"
      ]
     },
     "execution_count": 114,
     "metadata": {},
     "output_type": "execute_result"
    }
   ],
   "source": [
    "df_dropped2.shape"
   ]
  },
  {
   "cell_type": "markdown",
   "id": "b633879c-17a9-4cb5-b7ff-64c51d147d6a",
   "metadata": {},
   "source": [
    "CHECK FOR DUPLICATE VALUES IN THE DATASET"
   ]
  },
  {
   "cell_type": "code",
   "execution_count": 115,
   "id": "166d8d53-e430-41ce-b49c-1ced9ff339c8",
   "metadata": {},
   "outputs": [],
   "source": [
    "duplicate_data = df_dropped2.duplicated().any()"
   ]
  },
  {
   "cell_type": "code",
   "execution_count": 116,
   "id": "195dcb08-95ed-4ead-9c15-a1d40de10d24",
   "metadata": {},
   "outputs": [
    {
     "name": "stdout",
     "output_type": "stream",
     "text": [
      "False\n"
     ]
    }
   ],
   "source": [
    "print(duplicate_data)"
   ]
  },
  {
   "cell_type": "markdown",
   "id": "918c0310-53f7-4ec3-8357-918cbaacb4df",
   "metadata": {},
   "source": [
    "CONVERT THE RELEVANT OBJECTS DATA TYPES TO INTEGERS"
   ]
  },
  {
   "cell_type": "code",
   "execution_count": 117,
   "id": "d2c488ba-c8b4-4a2b-a3ff-9a1b20be9cf7",
   "metadata": {},
   "outputs": [],
   "source": [
    "df_dropped2.loc[:,'foreign_gross'] = df_dropped2['foreign_gross'].astype(str)"
   ]
  },
  {
   "cell_type": "code",
   "execution_count": 118,
   "id": "07ce5b96-b910-43d4-99ae-a254130dfb9d",
   "metadata": {},
   "outputs": [],
   "source": [
    "df_dropped2.loc[:, 'foreign_gross'] = df_dropped2['foreign_gross'].str.replace(',', '').astype(float)"
   ]
  },
  {
   "cell_type": "code",
   "execution_count": 119,
   "id": "f1feaa0c-4d70-40b6-8912-f902fb4dac98",
   "metadata": {},
   "outputs": [],
   "source": [
    "df_dropped2.loc[:,'foreign_gross'] = df_dropped2['foreign_gross'].astype(int)"
   ]
  },
  {
   "cell_type": "code",
   "execution_count": 120,
   "id": "fb50ee3b-6cfe-4c2a-aa7a-5a5c16818855",
   "metadata": {},
   "outputs": [
    {
     "name": "stdout",
     "output_type": "stream",
     "text": [
      "<class 'pandas.core.frame.DataFrame'>\n",
      "Index: 2007 entries, 0 to 3353\n",
      "Data columns (total 5 columns):\n",
      " #   Column          Non-Null Count  Dtype  \n",
      "---  ------          --------------  -----  \n",
      " 0   title           2007 non-null   object \n",
      " 1   studio          2007 non-null   object \n",
      " 2   domestic_gross  2007 non-null   float64\n",
      " 3   foreign_gross   2007 non-null   object \n",
      " 4   year            2007 non-null   int64  \n",
      "dtypes: float64(1), int64(1), object(3)\n",
      "memory usage: 94.1+ KB\n"
     ]
    }
   ],
   "source": [
    "df_dropped2.info()"
   ]
  },
  {
   "cell_type": "code",
   "execution_count": 121,
   "id": "2f9bde77-203c-4dfd-a754-d96e59106037",
   "metadata": {},
   "outputs": [
    {
     "data": {
      "text/plain": [
       "(2007, 5)"
      ]
     },
     "execution_count": 121,
     "metadata": {},
     "output_type": "execute_result"
    }
   ],
   "source": [
    "df_dropped2.shape"
   ]
  },
  {
   "cell_type": "markdown",
   "id": "9b952c2a-d4da-444b-a2c4-9b7b2d27bc8a",
   "metadata": {},
   "source": [
    "DISPLAY FOREIGN GROSS SALES PER YEAR"
   ]
  },
  {
   "cell_type": "code",
   "execution_count": 122,
   "id": "b6307727-de49-4c86-9687-28a630ee5b83",
   "metadata": {},
   "outputs": [
    {
     "data": {
      "text/plain": [
       "Index(['title', 'studio', 'domestic_gross', 'foreign_gross', 'year'], dtype='object')"
      ]
     },
     "execution_count": 122,
     "metadata": {},
     "output_type": "execute_result"
    }
   ],
   "source": [
    "df_dropped2.columns"
   ]
  },
  {
   "cell_type": "code",
   "execution_count": 123,
   "id": "a78eb693-5005-4c01-9542-a0aa215f9cce",
   "metadata": {},
   "outputs": [
    {
     "data": {
      "image/png": "[encoded data removed]",
      "text/plain": [
       "<Figure size 640x480 with 1 Axes>"
      ]
     },
     "metadata": {},
     "output_type": "display_data"
    }
   ],
   "source": [
    "sns.barplot(x='year', y='foreign_gross', data=df_dropped2)\n",
    "plt.title('FOREIGN GROSS SALES PER YEAR')\n",
    "plt.show()\n"
   ]
  },
  {
   "cell_type": "markdown",
   "id": "5ec9cd0b-a5b6-4d47-abe1-8659886f150e",
   "metadata": {},
   "source": [
    "DISPLAY FOREIGN GROSS SALES PER YEAR FOR TOP 100 MOVIES RANKED BY FOREIGN GROSS SALES"
   ]
  },
  {
   "cell_type": "code",
   "execution_count": 124,
   "id": "75b540c8-0569-4b25-93ca-a5846f2bb114",
   "metadata": {},
   "outputs": [
    {
     "data": {
      "text/html": [
       "<div>\n",
       "<style scoped>\n",
       "    .dataframe tbody tr th:only-of-type {\n",
       "        vertical-align: middle;\n",
       "    }\n",
       "\n",
       "    .dataframe tbody tr th {\n",
       "        vertical-align: top;\n",
       "    }\n",
       "\n",
       "    .dataframe thead th {\n",
       "        text-align: right;\n",
       "    }\n",
       "</style>\n",
       "<table border=\"1\" class=\"dataframe\">\n",
       "  <thead>\n",
       "    <tr style=\"text-align: right;\">\n",
       "      <th></th>\n",
       "      <th>title</th>\n",
       "      <th>studio</th>\n",
       "      <th>domestic_gross</th>\n",
       "      <th>foreign_gross</th>\n",
       "      <th>year</th>\n",
       "    </tr>\n",
       "  </thead>\n",
       "  <tbody>\n",
       "    <tr>\n",
       "      <th>328</th>\n",
       "      <td>Harry Potter and the Deathly Hallows Part 2</td>\n",
       "      <td>WB</td>\n",
       "      <td>381000000.0</td>\n",
       "      <td>960500000</td>\n",
       "      <td>2011</td>\n",
       "    </tr>\n",
       "    <tr>\n",
       "      <th>1875</th>\n",
       "      <td>Avengers: Age of Ultron</td>\n",
       "      <td>BV</td>\n",
       "      <td>459000000.0</td>\n",
       "      <td>946400000</td>\n",
       "      <td>2015</td>\n",
       "    </tr>\n",
       "    <tr>\n",
       "      <th>727</th>\n",
       "      <td>Marvel's The Avengers</td>\n",
       "      <td>BV</td>\n",
       "      <td>623400000.0</td>\n",
       "      <td>895500000</td>\n",
       "      <td>2012</td>\n",
       "    </tr>\n",
       "    <tr>\n",
       "      <th>3081</th>\n",
       "      <td>Jurassic World: Fallen Kingdom</td>\n",
       "      <td>Uni.</td>\n",
       "      <td>417700000.0</td>\n",
       "      <td>891800000</td>\n",
       "      <td>2018</td>\n",
       "    </tr>\n",
       "    <tr>\n",
       "      <th>1127</th>\n",
       "      <td>Frozen</td>\n",
       "      <td>BV</td>\n",
       "      <td>400700000.0</td>\n",
       "      <td>875700000</td>\n",
       "      <td>2013</td>\n",
       "    </tr>\n",
       "    <tr>\n",
       "      <th>...</th>\n",
       "      <td>...</td>\n",
       "      <td>...</td>\n",
       "      <td>...</td>\n",
       "      <td>...</td>\n",
       "      <td>...</td>\n",
       "    </tr>\n",
       "    <tr>\n",
       "      <th>2772</th>\n",
       "      <td>Logan (2017)</td>\n",
       "      <td>Fox</td>\n",
       "      <td>226300000.0</td>\n",
       "      <td>392700000</td>\n",
       "      <td>2017</td>\n",
       "    </tr>\n",
       "    <tr>\n",
       "      <th>7</th>\n",
       "      <td>Tangled</td>\n",
       "      <td>BV</td>\n",
       "      <td>200800000.0</td>\n",
       "      <td>391000000</td>\n",
       "      <td>2010</td>\n",
       "    </tr>\n",
       "    <tr>\n",
       "      <th>2336</th>\n",
       "      <td>X-Men: Apocalypse</td>\n",
       "      <td>Fox</td>\n",
       "      <td>155400000.0</td>\n",
       "      <td>388500000</td>\n",
       "      <td>2016</td>\n",
       "    </tr>\n",
       "    <tr>\n",
       "      <th>2339</th>\n",
       "      <td>Warcraft</td>\n",
       "      <td>Uni.</td>\n",
       "      <td>47400000.0</td>\n",
       "      <td>386300000</td>\n",
       "      <td>2016</td>\n",
       "    </tr>\n",
       "    <tr>\n",
       "      <th>2343</th>\n",
       "      <td>Monster Hunt</td>\n",
       "      <td>FR</td>\n",
       "      <td>32800.0</td>\n",
       "      <td>385300000</td>\n",
       "      <td>2016</td>\n",
       "    </tr>\n",
       "  </tbody>\n",
       "</table>\n",
       "<p>100 rows × 5 columns</p>\n",
       "</div>"
      ],
      "text/plain": [
       "                                            title studio  domestic_gross  \\\n",
       "328   Harry Potter and the Deathly Hallows Part 2     WB     381000000.0   \n",
       "1875                      Avengers: Age of Ultron     BV     459000000.0   \n",
       "727                         Marvel's The Avengers     BV     623400000.0   \n",
       "3081               Jurassic World: Fallen Kingdom   Uni.     417700000.0   \n",
       "1127                                       Frozen     BV     400700000.0   \n",
       "...                                           ...    ...             ...   \n",
       "2772                                 Logan (2017)    Fox     226300000.0   \n",
       "7                                         Tangled     BV     200800000.0   \n",
       "2336                            X-Men: Apocalypse    Fox     155400000.0   \n",
       "2339                                     Warcraft   Uni.      47400000.0   \n",
       "2343                                 Monster Hunt     FR         32800.0   \n",
       "\n",
       "     foreign_gross  year  \n",
       "328      960500000  2011  \n",
       "1875     946400000  2015  \n",
       "727      895500000  2012  \n",
       "3081     891800000  2018  \n",
       "1127     875700000  2013  \n",
       "...            ...   ...  \n",
       "2772     392700000  2017  \n",
       "7        391000000  2010  \n",
       "2336     388500000  2016  \n",
       "2339     386300000  2016  \n",
       "2343     385300000  2016  \n",
       "\n",
       "[100 rows x 5 columns]"
      ]
     },
     "execution_count": 124,
     "metadata": {},
     "output_type": "execute_result"
    }
   ],
   "source": [
    "top_100_mvs = df_dropped2.sort_values(by='foreign_gross', ascending=False).head(100)\n",
    "top_100_mvs "
   ]
  },
  {
   "cell_type": "code",
   "execution_count": 125,
   "id": "3aa2083f-fc6a-4173-88bb-696188d5b707",
   "metadata": {},
   "outputs": [
    {
     "data": {
      "image/png": "[encoded data removed]",
      "text/plain": [
       "<Figure size 640x480 with 1 Axes>"
      ]
     },
     "metadata": {},
     "output_type": "display_data"
    }
   ],
   "source": [
    "sns.boxplot(x='year', y='foreign_gross', data=top_100_mvs )\n",
    "plt.title('FOREIGN SALES OF TOP 100 MOVIES PER YEAR')\n",
    "plt.show()"
   ]
  },
  {
   "cell_type": "code",
   "execution_count": null,
   "id": "19895216-6dbb-4def-84d8-49466766cd18",
   "metadata": {},
   "outputs": [],
   "source": []
  }
 ],
 "metadata": {
  "kernelspec": {
   "display_name": "Python 3 (ipykernel)",
   "language": "python",
   "name": "python3"
  },
  "language_info": {
   "codemirror_mode": {
    "name": "ipython",
    "version": 3
   },
   "file_extension": ".py",
   "mimetype": "text/x-python",
   "name": "python",
   "nbconvert_exporter": "python",
   "pygments_lexer": "ipython3",
   "version": "3.11.7"
  }
 },
 "nbformat": 4,
 "nbformat_minor": 5
}
